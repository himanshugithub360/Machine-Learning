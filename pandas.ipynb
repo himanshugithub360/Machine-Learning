{
 "cells": [
  {
   "cell_type": "code",
   "execution_count": 1,
   "id": "d63ee65f",
   "metadata": {},
   "outputs": [],
   "source": [
    "import numpy as np"
   ]
  },
  {
   "cell_type": "code",
   "execution_count": 2,
   "id": "9e22d4f6",
   "metadata": {},
   "outputs": [],
   "source": [
    "import pandas as pd"
   ]
  },
  {
   "cell_type": "code",
   "execution_count": 3,
   "id": "eff27617",
   "metadata": {},
   "outputs": [],
   "source": [
    "df = pd.DataFrame(np.arange(0,20).reshape(4,5),index=['Row1','Row2','Row3','Row4'],columns=['Columns1','Columns2','Columns3','Columns4','Columns5'])"
   ]
  },
  {
   "cell_type": "code",
   "execution_count": 4,
   "id": "d2d968e3",
   "metadata": {},
   "outputs": [
    {
     "data": {
      "text/html": [
       "<div>\n",
       "<style scoped>\n",
       "    .dataframe tbody tr th:only-of-type {\n",
       "        vertical-align: middle;\n",
       "    }\n",
       "\n",
       "    .dataframe tbody tr th {\n",
       "        vertical-align: top;\n",
       "    }\n",
       "\n",
       "    .dataframe thead th {\n",
       "        text-align: right;\n",
       "    }\n",
       "</style>\n",
       "<table border=\"1\" class=\"dataframe\">\n",
       "  <thead>\n",
       "    <tr style=\"text-align: right;\">\n",
       "      <th></th>\n",
       "      <th>Columns1</th>\n",
       "      <th>Columns2</th>\n",
       "      <th>Columns3</th>\n",
       "      <th>Columns4</th>\n",
       "      <th>Columns5</th>\n",
       "    </tr>\n",
       "  </thead>\n",
       "  <tbody>\n",
       "    <tr>\n",
       "      <th>Row1</th>\n",
       "      <td>0</td>\n",
       "      <td>1</td>\n",
       "      <td>2</td>\n",
       "      <td>3</td>\n",
       "      <td>4</td>\n",
       "    </tr>\n",
       "    <tr>\n",
       "      <th>Row2</th>\n",
       "      <td>5</td>\n",
       "      <td>6</td>\n",
       "      <td>7</td>\n",
       "      <td>8</td>\n",
       "      <td>9</td>\n",
       "    </tr>\n",
       "    <tr>\n",
       "      <th>Row3</th>\n",
       "      <td>10</td>\n",
       "      <td>11</td>\n",
       "      <td>12</td>\n",
       "      <td>13</td>\n",
       "      <td>14</td>\n",
       "    </tr>\n",
       "    <tr>\n",
       "      <th>Row4</th>\n",
       "      <td>15</td>\n",
       "      <td>16</td>\n",
       "      <td>17</td>\n",
       "      <td>18</td>\n",
       "      <td>19</td>\n",
       "    </tr>\n",
       "  </tbody>\n",
       "</table>\n",
       "</div>"
      ],
      "text/plain": [
       "      Columns1  Columns2  Columns3  Columns4  Columns5\n",
       "Row1         0         1         2         3         4\n",
       "Row2         5         6         7         8         9\n",
       "Row3        10        11        12        13        14\n",
       "Row4        15        16        17        18        19"
      ]
     },
     "execution_count": 4,
     "metadata": {},
     "output_type": "execute_result"
    }
   ],
   "source": [
    "df.head()\n",
    "# to show the output"
   ]
  },
  {
   "cell_type": "code",
   "execution_count": 5,
   "id": "9f5c4dab",
   "metadata": {},
   "outputs": [
    {
     "data": {
      "text/plain": [
       "pandas.core.frame.DataFrame"
      ]
     },
     "execution_count": 5,
     "metadata": {},
     "output_type": "execute_result"
    }
   ],
   "source": [
    "type(df.head())"
   ]
  },
  {
   "cell_type": "code",
   "execution_count": 54,
   "id": "7c66f791",
   "metadata": {},
   "outputs": [],
   "source": [
    "df.to_csv('Test1.csv')"
   ]
  },
  {
   "cell_type": "code",
   "execution_count": 55,
   "id": "e1fa9d7c",
   "metadata": {},
   "outputs": [],
   "source": [
    "# Accessing the values ways two ways\n",
    "# 1. .loc[]       2.  .iloc[]\n",
    "# .loc[] ----> for accessing the rows \n",
    "# .iloc[] -----> for accessing the rows and columns using indexing\n",
    "\n"
   ]
  },
  {
   "cell_type": "code",
   "execution_count": 56,
   "id": "f5b03b3b",
   "metadata": {},
   "outputs": [
    {
     "data": {
      "text/plain": [
       "Columns1    0\n",
       "Columns2    1\n",
       "Columns3    2\n",
       "Columns4    3\n",
       "Columns5    4\n",
       "Name: Row1, dtype: int64"
      ]
     },
     "execution_count": 56,
     "metadata": {},
     "output_type": "execute_result"
    }
   ],
   "source": [
    "df.loc['Row1']"
   ]
  },
  {
   "cell_type": "code",
   "execution_count": 57,
   "id": "74c27b6c",
   "metadata": {},
   "outputs": [
    {
     "data": {
      "text/plain": [
       "Columns1    5\n",
       "Columns2    6\n",
       "Columns3    7\n",
       "Columns4    8\n",
       "Columns5    9\n",
       "Name: Row2, dtype: int64"
      ]
     },
     "execution_count": 57,
     "metadata": {},
     "output_type": "execute_result"
    }
   ],
   "source": [
    "df.loc['Row2']"
   ]
  },
  {
   "cell_type": "code",
   "execution_count": 58,
   "id": "8f91bc46",
   "metadata": {
    "vscode": {
     "languageId": "markdown"
    }
   },
   "outputs": [],
   "source": [
    "# Feature\t         Series (1D)\t                      DataFrame (2D)\n",
    "# ---------------------------------------------------------------------------------\n",
    "# Dimensions\t        1 (like a single column)            \t2 (rows × columns)\n",
    "# Data type support\t    Single column of data\t     ,   Multiple columns (each a Series)\n",
    "# Indexing\t             Only row index\t                Both row index & column labels\n",
    "# Example analogy\t     A single Excel column\t          A full Excel sheet"
   ]
  },
  {
   "cell_type": "code",
   "execution_count": 59,
   "id": "e682c76a",
   "metadata": {
    "vscode": {
     "languageId": "markdown"
    }
   },
   "outputs": [
    {
     "data": {
      "text/plain": [
       "pandas.core.series.Series"
      ]
     },
     "execution_count": 59,
     "metadata": {},
     "output_type": "execute_result"
    }
   ],
   "source": [
    "type(df.loc['Row2'])"
   ]
  },
  {
   "cell_type": "code",
   "execution_count": 60,
   "id": "a4bf521a",
   "metadata": {
    "vscode": {
     "languageId": "markdown"
    }
   },
   "outputs": [
    {
     "data": {
      "text/html": [
       "<div>\n",
       "<style scoped>\n",
       "    .dataframe tbody tr th:only-of-type {\n",
       "        vertical-align: middle;\n",
       "    }\n",
       "\n",
       "    .dataframe tbody tr th {\n",
       "        vertical-align: top;\n",
       "    }\n",
       "\n",
       "    .dataframe thead th {\n",
       "        text-align: right;\n",
       "    }\n",
       "</style>\n",
       "<table border=\"1\" class=\"dataframe\">\n",
       "  <thead>\n",
       "    <tr style=\"text-align: right;\">\n",
       "      <th></th>\n",
       "      <th>Columns1</th>\n",
       "      <th>Columns2</th>\n",
       "    </tr>\n",
       "  </thead>\n",
       "  <tbody>\n",
       "    <tr>\n",
       "      <th>Row1</th>\n",
       "      <td>0</td>\n",
       "      <td>1</td>\n",
       "    </tr>\n",
       "    <tr>\n",
       "      <th>Row2</th>\n",
       "      <td>5</td>\n",
       "      <td>6</td>\n",
       "    </tr>\n",
       "    <tr>\n",
       "      <th>Row3</th>\n",
       "      <td>10</td>\n",
       "      <td>11</td>\n",
       "    </tr>\n",
       "  </tbody>\n",
       "</table>\n",
       "</div>"
      ],
      "text/plain": [
       "      Columns1  Columns2\n",
       "Row1         0         1\n",
       "Row2         5         6\n",
       "Row3        10        11"
      ]
     },
     "execution_count": 60,
     "metadata": {},
     "output_type": "execute_result"
    }
   ],
   "source": [
    "df.iloc[0:3,0:2]"
   ]
  },
  {
   "cell_type": "code",
   "execution_count": 61,
   "id": "680ff518",
   "metadata": {
    "vscode": {
     "languageId": "markdown"
    }
   },
   "outputs": [
    {
     "data": {
      "text/plain": [
       "pandas.core.frame.DataFrame"
      ]
     },
     "execution_count": 61,
     "metadata": {},
     "output_type": "execute_result"
    }
   ],
   "source": [
    "type(df.iloc[0:3,0:2])"
   ]
  },
  {
   "cell_type": "code",
   "execution_count": 62,
   "id": "39f44938",
   "metadata": {
    "vscode": {
     "languageId": "markdown"
    }
   },
   "outputs": [
    {
     "data": {
      "text/plain": [
       "Row1     0\n",
       "Row2     5\n",
       "Row3    10\n",
       "Name: Columns1, dtype: int64"
      ]
     },
     "execution_count": 62,
     "metadata": {},
     "output_type": "execute_result"
    }
   ],
   "source": [
    "df.iloc[0:3,0]"
   ]
  },
  {
   "cell_type": "code",
   "execution_count": 63,
   "id": "e57f4547",
   "metadata": {
    "vscode": {
     "languageId": "markdown"
    }
   },
   "outputs": [
    {
     "data": {
      "text/plain": [
       "pandas.core.series.Series"
      ]
     },
     "execution_count": 63,
     "metadata": {},
     "output_type": "execute_result"
    }
   ],
   "source": [
    "type(df.iloc[0:3,0])"
   ]
  },
  {
   "cell_type": "code",
   "execution_count": 64,
   "id": "a9a44937",
   "metadata": {
    "vscode": {
     "languageId": "markdown"
    }
   },
   "outputs": [
    {
     "data": {
      "text/plain": [
       "pandas.core.series.Series"
      ]
     },
     "execution_count": 64,
     "metadata": {},
     "output_type": "execute_result"
    }
   ],
   "source": [
    "type(df.iloc[0,0:4])"
   ]
  },
  {
   "cell_type": "code",
   "execution_count": 65,
   "id": "3151a2bb",
   "metadata": {
    "vscode": {
     "languageId": "markdown"
    }
   },
   "outputs": [
    {
     "data": {
      "text/plain": [
       "array([[ 1,  2,  3,  4],\n",
       "       [ 6,  7,  8,  9],\n",
       "       [11, 12, 13, 14],\n",
       "       [16, 17, 18, 19]])"
      ]
     },
     "execution_count": 65,
     "metadata": {},
     "output_type": "execute_result"
    }
   ],
   "source": [
    "# converting Dataframes into arrays\n",
    "df.iloc[:,1:].values\n",
    "\n"
   ]
  },
  {
   "cell_type": "code",
   "execution_count": 66,
   "id": "9420b882",
   "metadata": {
    "vscode": {
     "languageId": "markdown"
    }
   },
   "outputs": [
    {
     "data": {
      "text/html": [
       "<div>\n",
       "<style scoped>\n",
       "    .dataframe tbody tr th:only-of-type {\n",
       "        vertical-align: middle;\n",
       "    }\n",
       "\n",
       "    .dataframe tbody tr th {\n",
       "        vertical-align: top;\n",
       "    }\n",
       "\n",
       "    .dataframe thead th {\n",
       "        text-align: right;\n",
       "    }\n",
       "</style>\n",
       "<table border=\"1\" class=\"dataframe\">\n",
       "  <thead>\n",
       "    <tr style=\"text-align: right;\">\n",
       "      <th></th>\n",
       "      <th>Columns1</th>\n",
       "      <th>Columns2</th>\n",
       "      <th>Columns3</th>\n",
       "      <th>Columns4</th>\n",
       "      <th>Columns5</th>\n",
       "    </tr>\n",
       "  </thead>\n",
       "  <tbody>\n",
       "    <tr>\n",
       "      <th>Row1</th>\n",
       "      <td>False</td>\n",
       "      <td>False</td>\n",
       "      <td>False</td>\n",
       "      <td>False</td>\n",
       "      <td>False</td>\n",
       "    </tr>\n",
       "    <tr>\n",
       "      <th>Row2</th>\n",
       "      <td>False</td>\n",
       "      <td>False</td>\n",
       "      <td>False</td>\n",
       "      <td>False</td>\n",
       "      <td>False</td>\n",
       "    </tr>\n",
       "    <tr>\n",
       "      <th>Row3</th>\n",
       "      <td>False</td>\n",
       "      <td>False</td>\n",
       "      <td>False</td>\n",
       "      <td>False</td>\n",
       "      <td>False</td>\n",
       "    </tr>\n",
       "    <tr>\n",
       "      <th>Row4</th>\n",
       "      <td>False</td>\n",
       "      <td>False</td>\n",
       "      <td>False</td>\n",
       "      <td>False</td>\n",
       "      <td>False</td>\n",
       "    </tr>\n",
       "  </tbody>\n",
       "</table>\n",
       "</div>"
      ],
      "text/plain": [
       "      Columns1  Columns2  Columns3  Columns4  Columns5\n",
       "Row1     False     False     False     False     False\n",
       "Row2     False     False     False     False     False\n",
       "Row3     False     False     False     False     False\n",
       "Row4     False     False     False     False     False"
      ]
     },
     "execution_count": 66,
     "metadata": {},
     "output_type": "execute_result"
    }
   ],
   "source": [
    "df.isnull()\n",
    "# checking is any null values present in it or not"
   ]
  },
  {
   "cell_type": "code",
   "execution_count": null,
   "id": "e6cfe676",
   "metadata": {
    "vscode": {
     "languageId": "markdown"
    }
   },
   "outputs": [
    {
     "data": {
      "text/plain": [
       "Columns1    0\n",
       "Columns2    0\n",
       "Columns3    0\n",
       "Columns4    0\n",
       "Columns5    0\n",
       "dtype: int64"
      ]
     },
     "execution_count": 55,
     "metadata": {},
     "output_type": "execute_result"
    }
   ],
   "source": [
    "df.isnull().sum()\n",
    "# .sum() counts the no. of null values\n"
   ]
  },
  {
   "cell_type": "code",
   "execution_count": null,
   "id": "8f235b49",
   "metadata": {
    "vscode": {
     "languageId": "markdown"
    }
   },
   "outputs": [
    {
     "data": {
      "text/plain": [
       "Columns1\n",
       "0     1\n",
       "5     1\n",
       "10    1\n",
       "15    1\n",
       "Name: count, dtype: int64"
      ]
     },
     "execution_count": 65,
     "metadata": {},
     "output_type": "execute_result"
    }
   ],
   "source": [
    "df['Columns1'].value_counts()"
   ]
  },
  {
   "cell_type": "code",
   "execution_count": null,
   "id": "cd103107",
   "metadata": {},
   "outputs": [
    {
     "data": {
      "text/html": [
       "<div>\n",
       "<style scoped>\n",
       "    .dataframe tbody tr th:only-of-type {\n",
       "        vertical-align: middle;\n",
       "    }\n",
       "\n",
       "    .dataframe tbody tr th {\n",
       "        vertical-align: top;\n",
       "    }\n",
       "\n",
       "    .dataframe thead th {\n",
       "        text-align: right;\n",
       "    }\n",
       "</style>\n",
       "<table border=\"1\" class=\"dataframe\">\n",
       "  <thead>\n",
       "    <tr style=\"text-align: right;\">\n",
       "      <th></th>\n",
       "      <th>title</th>\n",
       "      <th>description</th>\n",
       "      <th>level</th>\n",
       "      <th>goal</th>\n",
       "      <th>equipment</th>\n",
       "      <th>program_length</th>\n",
       "      <th>time_per_workout</th>\n",
       "      <th>total_exercises</th>\n",
       "      <th>created</th>\n",
       "      <th>last_edit</th>\n",
       "    </tr>\n",
       "  </thead>\n",
       "  <tbody>\n",
       "    <tr>\n",
       "      <th>0</th>\n",
       "      <td>(MASS MONSTER) High Intensity 4 Day Upper Lowe...</td>\n",
       "      <td>Build tones of muscular with this high intensi...</td>\n",
       "      <td>['Intermediate']</td>\n",
       "      <td>['Muscle &amp; Sculpting', 'Bodyweight Fitness']</td>\n",
       "      <td>Full Gym</td>\n",
       "      <td>12.0</td>\n",
       "      <td>90.0</td>\n",
       "      <td>384</td>\n",
       "      <td>2024-01-20 10:23:00</td>\n",
       "      <td>2025-06-29 12:39:00</td>\n",
       "    </tr>\n",
       "    <tr>\n",
       "      <th>1</th>\n",
       "      <td>(NOT MY PROGRAM)SHJ Jotaro</td>\n",
       "      <td>Build strength and size</td>\n",
       "      <td>['Advanced', 'Intermediate']</td>\n",
       "      <td>['Bodybuilding']</td>\n",
       "      <td>Full Gym</td>\n",
       "      <td>8.0</td>\n",
       "      <td>60.0</td>\n",
       "      <td>224</td>\n",
       "      <td>2024-07-08 02:28:00</td>\n",
       "      <td>2025-06-18 09:15:00</td>\n",
       "    </tr>\n",
       "    <tr>\n",
       "      <th>2</th>\n",
       "      <td>1 PowerLift Per Day Powerbuilding 5 Day Bro Split</td>\n",
       "      <td>Based off of Andy Baker's KCS (Kingwood Streng...</td>\n",
       "      <td>['Beginner', 'Novice', 'Intermediate']</td>\n",
       "      <td>['Athletics', 'Powerlifting', 'Powerbuilding']</td>\n",
       "      <td>Full Gym</td>\n",
       "      <td>6.0</td>\n",
       "      <td>90.0</td>\n",
       "      <td>237</td>\n",
       "      <td>2025-04-23 09:21:00</td>\n",
       "      <td>2025-06-18 11:55:00</td>\n",
       "    </tr>\n",
       "    <tr>\n",
       "      <th>3</th>\n",
       "      <td>10 Week Mass Building Program</td>\n",
       "      <td>This workout is designed to increase your musc...</td>\n",
       "      <td>['Intermediate', 'Advanced']</td>\n",
       "      <td>['Powerbuilding']</td>\n",
       "      <td>Garage Gym</td>\n",
       "      <td>10.0</td>\n",
       "      <td>70.0</td>\n",
       "      <td>280</td>\n",
       "      <td>2024-09-07 03:44:00</td>\n",
       "      <td>2025-06-18 08:01:00</td>\n",
       "    </tr>\n",
       "    <tr>\n",
       "      <th>4</th>\n",
       "      <td>10 week deadlift focus</td>\n",
       "      <td>Increase deadlift</td>\n",
       "      <td>['Intermediate', 'Advanced']</td>\n",
       "      <td>['Powerbuilding', 'Powerlifting', 'Bodybuildin...</td>\n",
       "      <td>Full Gym</td>\n",
       "      <td>10.0</td>\n",
       "      <td>80.0</td>\n",
       "      <td>356</td>\n",
       "      <td>2024-12-23 03:13:00</td>\n",
       "      <td>2025-06-18 12:19:00</td>\n",
       "    </tr>\n",
       "    <tr>\n",
       "      <th>...</th>\n",
       "      <td>...</td>\n",
       "      <td>...</td>\n",
       "      <td>...</td>\n",
       "      <td>...</td>\n",
       "      <td>...</td>\n",
       "      <td>...</td>\n",
       "      <td>...</td>\n",
       "      <td>...</td>\n",
       "      <td>...</td>\n",
       "      <td>...</td>\n",
       "    </tr>\n",
       "    <tr>\n",
       "      <th>2593</th>\n",
       "      <td>🎧</td>\n",
       "      <td>Lihaskasvu</td>\n",
       "      <td>['Intermediate', 'Advanced']</td>\n",
       "      <td>['Bodybuilding']</td>\n",
       "      <td>Garage Gym</td>\n",
       "      <td>12.0</td>\n",
       "      <td>90.0</td>\n",
       "      <td>228</td>\n",
       "      <td>2024-10-10 04:20:00</td>\n",
       "      <td>2025-06-18 11:32:00</td>\n",
       "    </tr>\n",
       "    <tr>\n",
       "      <th>2594</th>\n",
       "      <td>👾Reza's Routine👾</td>\n",
       "      <td>This is a beginner friendly routine made for m...</td>\n",
       "      <td>['Beginner', 'Intermediate']</td>\n",
       "      <td>['Muscle &amp; Sculpting']</td>\n",
       "      <td>Dumbbell Only</td>\n",
       "      <td>1.0</td>\n",
       "      <td>60.0</td>\n",
       "      <td>60</td>\n",
       "      <td>2024-09-15 08:45:00</td>\n",
       "      <td>2025-06-18 07:48:00</td>\n",
       "    </tr>\n",
       "    <tr>\n",
       "      <th>2595</th>\n",
       "      <td>🔥 \"Upper Body Dominance: 3-Day Growth System\" 🔥</td>\n",
       "      <td>\"Upper Body Dominance: A science-based 3-day w...</td>\n",
       "      <td>['Intermediate', 'Novice']</td>\n",
       "      <td>['Muscle &amp; Sculpting']</td>\n",
       "      <td>Full Gym</td>\n",
       "      <td>6.0</td>\n",
       "      <td>60.0</td>\n",
       "      <td>96</td>\n",
       "      <td>2025-02-15 08:18:00</td>\n",
       "      <td>2025-06-18 07:48:00</td>\n",
       "    </tr>\n",
       "    <tr>\n",
       "      <th>2596</th>\n",
       "      <td>🙈🙉🙊🐵</td>\n",
       "      <td>Muscle Memory Training</td>\n",
       "      <td>['Intermediate']</td>\n",
       "      <td>['Bodybuilding']</td>\n",
       "      <td>Full Gym</td>\n",
       "      <td>8.0</td>\n",
       "      <td>90.0</td>\n",
       "      <td>211</td>\n",
       "      <td>2024-12-08 01:04:00</td>\n",
       "      <td>2025-06-18 11:35:00</td>\n",
       "    </tr>\n",
       "    <tr>\n",
       "      <th>2597</th>\n",
       "      <td>🥷🥷🥷</td>\n",
       "      <td>To become stronger without becoming “bulky”</td>\n",
       "      <td>['Intermediate', 'Novice']</td>\n",
       "      <td>['Bodybuilding', 'Powerbuilding']</td>\n",
       "      <td>Garage Gym</td>\n",
       "      <td>9.0</td>\n",
       "      <td>100.0</td>\n",
       "      <td>216</td>\n",
       "      <td>2025-05-15 10:44:00</td>\n",
       "      <td>2025-06-18 12:08:00</td>\n",
       "    </tr>\n",
       "  </tbody>\n",
       "</table>\n",
       "<p>2598 rows × 10 columns</p>\n",
       "</div>"
      ],
      "text/plain": [
       "                                                  title  \\\n",
       "0     (MASS MONSTER) High Intensity 4 Day Upper Lowe...   \n",
       "1                            (NOT MY PROGRAM)SHJ Jotaro   \n",
       "2     1 PowerLift Per Day Powerbuilding 5 Day Bro Split   \n",
       "3                         10 Week Mass Building Program   \n",
       "4                                10 week deadlift focus   \n",
       "...                                                 ...   \n",
       "2593                                                  🎧   \n",
       "2594                                   👾Reza's Routine👾   \n",
       "2595    🔥 \"Upper Body Dominance: 3-Day Growth System\" 🔥   \n",
       "2596                                               🙈🙉🙊🐵   \n",
       "2597                                                🥷🥷🥷   \n",
       "\n",
       "                                            description  \\\n",
       "0     Build tones of muscular with this high intensi...   \n",
       "1                               Build strength and size   \n",
       "2     Based off of Andy Baker's KCS (Kingwood Streng...   \n",
       "3     This workout is designed to increase your musc...   \n",
       "4                                     Increase deadlift   \n",
       "...                                                 ...   \n",
       "2593                                         Lihaskasvu   \n",
       "2594  This is a beginner friendly routine made for m...   \n",
       "2595  \"Upper Body Dominance: A science-based 3-day w...   \n",
       "2596                             Muscle Memory Training   \n",
       "2597        To become stronger without becoming “bulky”   \n",
       "\n",
       "                                       level  \\\n",
       "0                           ['Intermediate']   \n",
       "1               ['Advanced', 'Intermediate']   \n",
       "2     ['Beginner', 'Novice', 'Intermediate']   \n",
       "3               ['Intermediate', 'Advanced']   \n",
       "4               ['Intermediate', 'Advanced']   \n",
       "...                                      ...   \n",
       "2593            ['Intermediate', 'Advanced']   \n",
       "2594            ['Beginner', 'Intermediate']   \n",
       "2595              ['Intermediate', 'Novice']   \n",
       "2596                        ['Intermediate']   \n",
       "2597              ['Intermediate', 'Novice']   \n",
       "\n",
       "                                                   goal      equipment  \\\n",
       "0          ['Muscle & Sculpting', 'Bodyweight Fitness']       Full Gym   \n",
       "1                                      ['Bodybuilding']       Full Gym   \n",
       "2        ['Athletics', 'Powerlifting', 'Powerbuilding']       Full Gym   \n",
       "3                                     ['Powerbuilding']     Garage Gym   \n",
       "4     ['Powerbuilding', 'Powerlifting', 'Bodybuildin...       Full Gym   \n",
       "...                                                 ...            ...   \n",
       "2593                                   ['Bodybuilding']     Garage Gym   \n",
       "2594                             ['Muscle & Sculpting']  Dumbbell Only   \n",
       "2595                             ['Muscle & Sculpting']       Full Gym   \n",
       "2596                                   ['Bodybuilding']       Full Gym   \n",
       "2597                  ['Bodybuilding', 'Powerbuilding']     Garage Gym   \n",
       "\n",
       "      program_length  time_per_workout  total_exercises              created  \\\n",
       "0               12.0              90.0              384  2024-01-20 10:23:00   \n",
       "1                8.0              60.0              224  2024-07-08 02:28:00   \n",
       "2                6.0              90.0              237  2025-04-23 09:21:00   \n",
       "3               10.0              70.0              280  2024-09-07 03:44:00   \n",
       "4               10.0              80.0              356  2024-12-23 03:13:00   \n",
       "...              ...               ...              ...                  ...   \n",
       "2593            12.0              90.0              228  2024-10-10 04:20:00   \n",
       "2594             1.0              60.0               60  2024-09-15 08:45:00   \n",
       "2595             6.0              60.0               96  2025-02-15 08:18:00   \n",
       "2596             8.0              90.0              211  2024-12-08 01:04:00   \n",
       "2597             9.0             100.0              216  2025-05-15 10:44:00   \n",
       "\n",
       "                last_edit  \n",
       "0     2025-06-29 12:39:00  \n",
       "1     2025-06-18 09:15:00  \n",
       "2     2025-06-18 11:55:00  \n",
       "3     2025-06-18 08:01:00  \n",
       "4     2025-06-18 12:19:00  \n",
       "...                   ...  \n",
       "2593  2025-06-18 11:32:00  \n",
       "2594  2025-06-18 07:48:00  \n",
       "2595  2025-06-18 07:48:00  \n",
       "2596  2025-06-18 11:35:00  \n",
       "2597  2025-06-18 12:08:00  \n",
       "\n",
       "[2598 rows x 10 columns]"
      ]
     },
     "execution_count": 8,
     "metadata": {},
     "output_type": "execute_result"
    }
   ],
   "source": [
    "fl = pd.read_csv(\"fitness_and_workout_dataset.csv\")\n",
    "fl"
   ]
  },
  {
   "cell_type": "code",
   "execution_count": null,
   "id": "23b7d2a7",
   "metadata": {},
   "outputs": [
    {
     "name": "stdout",
     "output_type": "stream",
     "text": [
      "<class 'pandas.core.frame.DataFrame'>\n",
      "RangeIndex: 2598 entries, 0 to 2597\n",
      "Data columns (total 10 columns):\n",
      " #   Column            Non-Null Count  Dtype  \n",
      "---  ------            --------------  -----  \n",
      " 0   title             2598 non-null   object \n",
      " 1   description       2594 non-null   object \n",
      " 2   level             2598 non-null   object \n",
      " 3   goal              2598 non-null   object \n",
      " 4   equipment         2597 non-null   object \n",
      " 5   program_length    2597 non-null   float64\n",
      " 6   time_per_workout  2598 non-null   float64\n",
      " 7   total_exercises   2598 non-null   int64  \n",
      " 8   created           2597 non-null   object \n",
      " 9   last_edit         2596 non-null   object \n",
      "dtypes: float64(2), int64(1), object(7)\n",
      "memory usage: 203.1+ KB\n"
     ]
    }
   ],
   "source": [
    "fl.info()"
   ]
  },
  {
   "cell_type": "code",
   "execution_count": null,
   "id": "81928b6b",
   "metadata": {},
   "outputs": [
    {
     "data": {
      "text/html": [
       "<div>\n",
       "<style scoped>\n",
       "    .dataframe tbody tr th:only-of-type {\n",
       "        vertical-align: middle;\n",
       "    }\n",
       "\n",
       "    .dataframe tbody tr th {\n",
       "        vertical-align: top;\n",
       "    }\n",
       "\n",
       "    .dataframe thead th {\n",
       "        text-align: right;\n",
       "    }\n",
       "</style>\n",
       "<table border=\"1\" class=\"dataframe\">\n",
       "  <thead>\n",
       "    <tr style=\"text-align: right;\">\n",
       "      <th></th>\n",
       "      <th>program_length</th>\n",
       "      <th>time_per_workout</th>\n",
       "      <th>total_exercises</th>\n",
       "    </tr>\n",
       "  </thead>\n",
       "  <tbody>\n",
       "    <tr>\n",
       "      <th>count</th>\n",
       "      <td>2597.000000</td>\n",
       "      <td>2598.000000</td>\n",
       "      <td>2598.000000</td>\n",
       "    </tr>\n",
       "    <tr>\n",
       "      <th>mean</th>\n",
       "      <td>8.812476</td>\n",
       "      <td>69.035412</td>\n",
       "      <td>232.884142</td>\n",
       "    </tr>\n",
       "    <tr>\n",
       "      <th>std</th>\n",
       "      <td>4.185403</td>\n",
       "      <td>24.394798</td>\n",
       "      <td>208.123873</td>\n",
       "    </tr>\n",
       "    <tr>\n",
       "      <th>min</th>\n",
       "      <td>1.000000</td>\n",
       "      <td>10.000000</td>\n",
       "      <td>1.000000</td>\n",
       "    </tr>\n",
       "    <tr>\n",
       "      <th>25%</th>\n",
       "      <td>5.000000</td>\n",
       "      <td>60.000000</td>\n",
       "      <td>108.000000</td>\n",
       "    </tr>\n",
       "    <tr>\n",
       "      <th>50%</th>\n",
       "      <td>8.000000</td>\n",
       "      <td>60.000000</td>\n",
       "      <td>192.500000</td>\n",
       "    </tr>\n",
       "    <tr>\n",
       "      <th>75%</th>\n",
       "      <td>12.000000</td>\n",
       "      <td>90.000000</td>\n",
       "      <td>307.750000</td>\n",
       "    </tr>\n",
       "    <tr>\n",
       "      <th>max</th>\n",
       "      <td>18.000000</td>\n",
       "      <td>180.000000</td>\n",
       "      <td>5040.000000</td>\n",
       "    </tr>\n",
       "  </tbody>\n",
       "</table>\n",
       "</div>"
      ],
      "text/plain": [
       "       program_length  time_per_workout  total_exercises\n",
       "count     2597.000000       2598.000000      2598.000000\n",
       "mean         8.812476         69.035412       232.884142\n",
       "std          4.185403         24.394798       208.123873\n",
       "min          1.000000         10.000000         1.000000\n",
       "25%          5.000000         60.000000       108.000000\n",
       "50%          8.000000         60.000000       192.500000\n",
       "75%         12.000000         90.000000       307.750000\n",
       "max         18.000000        180.000000      5040.000000"
      ]
     },
     "execution_count": 11,
     "metadata": {},
     "output_type": "execute_result"
    }
   ],
   "source": [
    "fl.describe()"
   ]
  },
  {
   "cell_type": "code",
   "execution_count": null,
   "id": "392ffa22",
   "metadata": {},
   "outputs": [
    {
     "data": {
      "text/html": [
       "<div>\n",
       "<style scoped>\n",
       "    .dataframe tbody tr th:only-of-type {\n",
       "        vertical-align: middle;\n",
       "    }\n",
       "\n",
       "    .dataframe tbody tr th {\n",
       "        vertical-align: top;\n",
       "    }\n",
       "\n",
       "    .dataframe thead th {\n",
       "        text-align: right;\n",
       "    }\n",
       "</style>\n",
       "<table border=\"1\" class=\"dataframe\">\n",
       "  <thead>\n",
       "    <tr style=\"text-align: right;\">\n",
       "      <th></th>\n",
       "      <th>Columns1</th>\n",
       "      <th>Columns2</th>\n",
       "      <th>Columns3</th>\n",
       "      <th>Columns4</th>\n",
       "      <th>Columns5</th>\n",
       "    </tr>\n",
       "  </thead>\n",
       "  <tbody>\n",
       "    <tr>\n",
       "      <th>Row1</th>\n",
       "      <td>0</td>\n",
       "      <td>1</td>\n",
       "      <td>2</td>\n",
       "      <td>3</td>\n",
       "      <td>4</td>\n",
       "    </tr>\n",
       "    <tr>\n",
       "      <th>Row2</th>\n",
       "      <td>5</td>\n",
       "      <td>6</td>\n",
       "      <td>7</td>\n",
       "      <td>8</td>\n",
       "      <td>9</td>\n",
       "    </tr>\n",
       "    <tr>\n",
       "      <th>Row3</th>\n",
       "      <td>10</td>\n",
       "      <td>11</td>\n",
       "      <td>12</td>\n",
       "      <td>13</td>\n",
       "      <td>14</td>\n",
       "    </tr>\n",
       "    <tr>\n",
       "      <th>Row4</th>\n",
       "      <td>15</td>\n",
       "      <td>16</td>\n",
       "      <td>17</td>\n",
       "      <td>18</td>\n",
       "      <td>19</td>\n",
       "    </tr>\n",
       "  </tbody>\n",
       "</table>\n",
       "</div>"
      ],
      "text/plain": [
       "      Columns1  Columns2  Columns3  Columns4  Columns5\n",
       "Row1         0         1         2         3         4\n",
       "Row2         5         6         7         8         9\n",
       "Row3        10        11        12        13        14\n",
       "Row4        15        16        17        18        19"
      ]
     },
     "execution_count": 17,
     "metadata": {},
     "output_type": "execute_result"
    }
   ],
   "source": [
    "# sep is used when in csv , values is not separated by ,\n",
    "fl1 = pd.read_csv(\"test2.csv\",sep=';')\n",
    "fl1"
   ]
  },
  {
   "cell_type": "code",
   "execution_count": null,
   "id": "4668133e",
   "metadata": {},
   "outputs": [
    {
     "data": {
      "text/plain": [
       "<bound method IndexOpsMixin.value_counts of 0       12.0\n",
       "1        8.0\n",
       "2        6.0\n",
       "3       10.0\n",
       "4       10.0\n",
       "        ... \n",
       "2593    12.0\n",
       "2594     1.0\n",
       "2595     6.0\n",
       "2596     8.0\n",
       "2597     9.0\n",
       "Name: program_length, Length: 2598, dtype: float64>"
      ]
     },
     "execution_count": 18,
     "metadata": {},
     "output_type": "execute_result"
    }
   ],
   "source": [
    "fl[\"program_length\"].value_counts"
   ]
  },
  {
   "cell_type": "code",
   "execution_count": null,
   "id": "9f23c6ec",
   "metadata": {},
   "outputs": [
    {
     "data": {
      "text/html": [
       "<div>\n",
       "<style scoped>\n",
       "    .dataframe tbody tr th:only-of-type {\n",
       "        vertical-align: middle;\n",
       "    }\n",
       "\n",
       "    .dataframe tbody tr th {\n",
       "        vertical-align: top;\n",
       "    }\n",
       "\n",
       "    .dataframe thead th {\n",
       "        text-align: right;\n",
       "    }\n",
       "</style>\n",
       "<table border=\"1\" class=\"dataframe\">\n",
       "  <thead>\n",
       "    <tr style=\"text-align: right;\">\n",
       "      <th></th>\n",
       "      <th>title</th>\n",
       "      <th>description</th>\n",
       "      <th>level</th>\n",
       "      <th>goal</th>\n",
       "      <th>equipment</th>\n",
       "      <th>program_length</th>\n",
       "      <th>time_per_workout</th>\n",
       "      <th>total_exercises</th>\n",
       "      <th>created</th>\n",
       "      <th>last_edit</th>\n",
       "    </tr>\n",
       "  </thead>\n",
       "  <tbody>\n",
       "    <tr>\n",
       "      <th>0</th>\n",
       "      <td>(MASS MONSTER) High Intensity 4 Day Upper Lowe...</td>\n",
       "      <td>Build tones of muscular with this high intensi...</td>\n",
       "      <td>['Intermediate']</td>\n",
       "      <td>['Muscle &amp; Sculpting', 'Bodyweight Fitness']</td>\n",
       "      <td>Full Gym</td>\n",
       "      <td>12.0</td>\n",
       "      <td>90.0</td>\n",
       "      <td>384</td>\n",
       "      <td>2024-01-20 10:23:00</td>\n",
       "      <td>2025-06-29 12:39:00</td>\n",
       "    </tr>\n",
       "    <tr>\n",
       "      <th>1</th>\n",
       "      <td>(NOT MY PROGRAM)SHJ Jotaro</td>\n",
       "      <td>Build strength and size</td>\n",
       "      <td>['Advanced', 'Intermediate']</td>\n",
       "      <td>['Bodybuilding']</td>\n",
       "      <td>Full Gym</td>\n",
       "      <td>8.0</td>\n",
       "      <td>60.0</td>\n",
       "      <td>224</td>\n",
       "      <td>2024-07-08 02:28:00</td>\n",
       "      <td>2025-06-18 09:15:00</td>\n",
       "    </tr>\n",
       "    <tr>\n",
       "      <th>2</th>\n",
       "      <td>1 PowerLift Per Day Powerbuilding 5 Day Bro Split</td>\n",
       "      <td>Based off of Andy Baker's KCS (Kingwood Streng...</td>\n",
       "      <td>['Beginner', 'Novice', 'Intermediate']</td>\n",
       "      <td>['Athletics', 'Powerlifting', 'Powerbuilding']</td>\n",
       "      <td>Full Gym</td>\n",
       "      <td>6.0</td>\n",
       "      <td>90.0</td>\n",
       "      <td>237</td>\n",
       "      <td>2025-04-23 09:21:00</td>\n",
       "      <td>2025-06-18 11:55:00</td>\n",
       "    </tr>\n",
       "    <tr>\n",
       "      <th>3</th>\n",
       "      <td>10 Week Mass Building Program</td>\n",
       "      <td>This workout is designed to increase your musc...</td>\n",
       "      <td>['Intermediate', 'Advanced']</td>\n",
       "      <td>['Powerbuilding']</td>\n",
       "      <td>Garage Gym</td>\n",
       "      <td>10.0</td>\n",
       "      <td>70.0</td>\n",
       "      <td>280</td>\n",
       "      <td>2024-09-07 03:44:00</td>\n",
       "      <td>2025-06-18 08:01:00</td>\n",
       "    </tr>\n",
       "    <tr>\n",
       "      <th>4</th>\n",
       "      <td>10 week deadlift focus</td>\n",
       "      <td>Increase deadlift</td>\n",
       "      <td>['Intermediate', 'Advanced']</td>\n",
       "      <td>['Powerbuilding', 'Powerlifting', 'Bodybuildin...</td>\n",
       "      <td>Full Gym</td>\n",
       "      <td>10.0</td>\n",
       "      <td>80.0</td>\n",
       "      <td>356</td>\n",
       "      <td>2024-12-23 03:13:00</td>\n",
       "      <td>2025-06-18 12:19:00</td>\n",
       "    </tr>\n",
       "    <tr>\n",
       "      <th>...</th>\n",
       "      <td>...</td>\n",
       "      <td>...</td>\n",
       "      <td>...</td>\n",
       "      <td>...</td>\n",
       "      <td>...</td>\n",
       "      <td>...</td>\n",
       "      <td>...</td>\n",
       "      <td>...</td>\n",
       "      <td>...</td>\n",
       "      <td>...</td>\n",
       "    </tr>\n",
       "    <tr>\n",
       "      <th>2592</th>\n",
       "      <td>𝕮𝖍𝖎𝖒𝖊𝖗𝖆</td>\n",
       "      <td>• A mixture of fullbody, upper-lower and a bro...</td>\n",
       "      <td>['Advanced', 'Intermediate', 'Novice', 'Beginn...</td>\n",
       "      <td>['Bodybuilding']</td>\n",
       "      <td>Full Gym</td>\n",
       "      <td>12.0</td>\n",
       "      <td>70.0</td>\n",
       "      <td>264</td>\n",
       "      <td>2024-07-04 03:13:00</td>\n",
       "      <td>2025-06-18 09:17:00</td>\n",
       "    </tr>\n",
       "    <tr>\n",
       "      <th>2593</th>\n",
       "      <td>🎧</td>\n",
       "      <td>Lihaskasvu</td>\n",
       "      <td>['Intermediate', 'Advanced']</td>\n",
       "      <td>['Bodybuilding']</td>\n",
       "      <td>Garage Gym</td>\n",
       "      <td>12.0</td>\n",
       "      <td>90.0</td>\n",
       "      <td>228</td>\n",
       "      <td>2024-10-10 04:20:00</td>\n",
       "      <td>2025-06-18 11:32:00</td>\n",
       "    </tr>\n",
       "    <tr>\n",
       "      <th>2595</th>\n",
       "      <td>🔥 \"Upper Body Dominance: 3-Day Growth System\" 🔥</td>\n",
       "      <td>\"Upper Body Dominance: A science-based 3-day w...</td>\n",
       "      <td>['Intermediate', 'Novice']</td>\n",
       "      <td>['Muscle &amp; Sculpting']</td>\n",
       "      <td>Full Gym</td>\n",
       "      <td>6.0</td>\n",
       "      <td>60.0</td>\n",
       "      <td>96</td>\n",
       "      <td>2025-02-15 08:18:00</td>\n",
       "      <td>2025-06-18 07:48:00</td>\n",
       "    </tr>\n",
       "    <tr>\n",
       "      <th>2596</th>\n",
       "      <td>🙈🙉🙊🐵</td>\n",
       "      <td>Muscle Memory Training</td>\n",
       "      <td>['Intermediate']</td>\n",
       "      <td>['Bodybuilding']</td>\n",
       "      <td>Full Gym</td>\n",
       "      <td>8.0</td>\n",
       "      <td>90.0</td>\n",
       "      <td>211</td>\n",
       "      <td>2024-12-08 01:04:00</td>\n",
       "      <td>2025-06-18 11:35:00</td>\n",
       "    </tr>\n",
       "    <tr>\n",
       "      <th>2597</th>\n",
       "      <td>🥷🥷🥷</td>\n",
       "      <td>To become stronger without becoming “bulky”</td>\n",
       "      <td>['Intermediate', 'Novice']</td>\n",
       "      <td>['Bodybuilding', 'Powerbuilding']</td>\n",
       "      <td>Garage Gym</td>\n",
       "      <td>9.0</td>\n",
       "      <td>100.0</td>\n",
       "      <td>216</td>\n",
       "      <td>2025-05-15 10:44:00</td>\n",
       "      <td>2025-06-18 12:08:00</td>\n",
       "    </tr>\n",
       "  </tbody>\n",
       "</table>\n",
       "<p>1925 rows × 10 columns</p>\n",
       "</div>"
      ],
      "text/plain": [
       "                                                  title  \\\n",
       "0     (MASS MONSTER) High Intensity 4 Day Upper Lowe...   \n",
       "1                            (NOT MY PROGRAM)SHJ Jotaro   \n",
       "2     1 PowerLift Per Day Powerbuilding 5 Day Bro Split   \n",
       "3                         10 Week Mass Building Program   \n",
       "4                                10 week deadlift focus   \n",
       "...                                                 ...   \n",
       "2592                                            𝕮𝖍𝖎𝖒𝖊𝖗𝖆   \n",
       "2593                                                  🎧   \n",
       "2595    🔥 \"Upper Body Dominance: 3-Day Growth System\" 🔥   \n",
       "2596                                               🙈🙉🙊🐵   \n",
       "2597                                                🥷🥷🥷   \n",
       "\n",
       "                                            description  \\\n",
       "0     Build tones of muscular with this high intensi...   \n",
       "1                               Build strength and size   \n",
       "2     Based off of Andy Baker's KCS (Kingwood Streng...   \n",
       "3     This workout is designed to increase your musc...   \n",
       "4                                     Increase deadlift   \n",
       "...                                                 ...   \n",
       "2592  • A mixture of fullbody, upper-lower and a bro...   \n",
       "2593                                         Lihaskasvu   \n",
       "2595  \"Upper Body Dominance: A science-based 3-day w...   \n",
       "2596                             Muscle Memory Training   \n",
       "2597        To become stronger without becoming “bulky”   \n",
       "\n",
       "                                                  level  \\\n",
       "0                                      ['Intermediate']   \n",
       "1                          ['Advanced', 'Intermediate']   \n",
       "2                ['Beginner', 'Novice', 'Intermediate']   \n",
       "3                          ['Intermediate', 'Advanced']   \n",
       "4                          ['Intermediate', 'Advanced']   \n",
       "...                                                 ...   \n",
       "2592  ['Advanced', 'Intermediate', 'Novice', 'Beginn...   \n",
       "2593                       ['Intermediate', 'Advanced']   \n",
       "2595                         ['Intermediate', 'Novice']   \n",
       "2596                                   ['Intermediate']   \n",
       "2597                         ['Intermediate', 'Novice']   \n",
       "\n",
       "                                                   goal   equipment  \\\n",
       "0          ['Muscle & Sculpting', 'Bodyweight Fitness']    Full Gym   \n",
       "1                                      ['Bodybuilding']    Full Gym   \n",
       "2        ['Athletics', 'Powerlifting', 'Powerbuilding']    Full Gym   \n",
       "3                                     ['Powerbuilding']  Garage Gym   \n",
       "4     ['Powerbuilding', 'Powerlifting', 'Bodybuildin...    Full Gym   \n",
       "...                                                 ...         ...   \n",
       "2592                                   ['Bodybuilding']    Full Gym   \n",
       "2593                                   ['Bodybuilding']  Garage Gym   \n",
       "2595                             ['Muscle & Sculpting']    Full Gym   \n",
       "2596                                   ['Bodybuilding']    Full Gym   \n",
       "2597                  ['Bodybuilding', 'Powerbuilding']  Garage Gym   \n",
       "\n",
       "      program_length  time_per_workout  total_exercises              created  \\\n",
       "0               12.0              90.0              384  2024-01-20 10:23:00   \n",
       "1                8.0              60.0              224  2024-07-08 02:28:00   \n",
       "2                6.0              90.0              237  2025-04-23 09:21:00   \n",
       "3               10.0              70.0              280  2024-09-07 03:44:00   \n",
       "4               10.0              80.0              356  2024-12-23 03:13:00   \n",
       "...              ...               ...              ...                  ...   \n",
       "2592            12.0              70.0              264  2024-07-04 03:13:00   \n",
       "2593            12.0              90.0              228  2024-10-10 04:20:00   \n",
       "2595             6.0              60.0               96  2025-02-15 08:18:00   \n",
       "2596             8.0              90.0              211  2024-12-08 01:04:00   \n",
       "2597             9.0             100.0              216  2025-05-15 10:44:00   \n",
       "\n",
       "                last_edit  \n",
       "0     2025-06-29 12:39:00  \n",
       "1     2025-06-18 09:15:00  \n",
       "2     2025-06-18 11:55:00  \n",
       "3     2025-06-18 08:01:00  \n",
       "4     2025-06-18 12:19:00  \n",
       "...                   ...  \n",
       "2592  2025-06-18 09:17:00  \n",
       "2593  2025-06-18 11:32:00  \n",
       "2595  2025-06-18 07:48:00  \n",
       "2596  2025-06-18 11:35:00  \n",
       "2597  2025-06-18 12:08:00  \n",
       "\n",
       "[1925 rows x 10 columns]"
      ]
     },
     "execution_count": 21,
     "metadata": {},
     "output_type": "execute_result"
    }
   ],
   "source": [
    "fl[fl[\"program_length\"]>5]"
   ]
  },
  {
   "cell_type": "markdown",
   "id": "19674496",
   "metadata": {},
   "source": [
    "# CSV"
   ]
  },
  {
   "cell_type": "code",
   "execution_count": 6,
   "id": "c2c8fc06",
   "metadata": {},
   "outputs": [],
   "source": [
    "from io import StringIO, BytesIO\n"
   ]
  },
  {
   "cell_type": "code",
   "execution_count": null,
   "id": "53159ff8",
   "metadata": {},
   "outputs": [],
   "source": [
    "data = ('col1,col2,col3\\n'\n",
    "        '12,24,53\\n'\n",
    "        'd,g,g\\n'\n",
    "        'cf,sa,er\\n')"
   ]
  },
  {
   "cell_type": "code",
   "execution_count": null,
   "id": "f367171c",
   "metadata": {},
   "outputs": [
    {
     "data": {
      "text/plain": [
       "str"
      ]
     },
     "execution_count": 27,
     "metadata": {},
     "output_type": "execute_result"
    }
   ],
   "source": [
    "type(data)"
   ]
  },
  {
   "cell_type": "code",
   "execution_count": null,
   "id": "471ebaec",
   "metadata": {},
   "outputs": [
    {
     "data": {
      "text/html": [
       "<div>\n",
       "<style scoped>\n",
       "    .dataframe tbody tr th:only-of-type {\n",
       "        vertical-align: middle;\n",
       "    }\n",
       "\n",
       "    .dataframe tbody tr th {\n",
       "        vertical-align: top;\n",
       "    }\n",
       "\n",
       "    .dataframe thead th {\n",
       "        text-align: right;\n",
       "    }\n",
       "</style>\n",
       "<table border=\"1\" class=\"dataframe\">\n",
       "  <thead>\n",
       "    <tr style=\"text-align: right;\">\n",
       "      <th></th>\n",
       "      <th>col1</th>\n",
       "      <th>col2</th>\n",
       "      <th>col3</th>\n",
       "    </tr>\n",
       "  </thead>\n",
       "  <tbody>\n",
       "    <tr>\n",
       "      <th>0</th>\n",
       "      <td>12</td>\n",
       "      <td>24</td>\n",
       "      <td>53</td>\n",
       "    </tr>\n",
       "    <tr>\n",
       "      <th>1</th>\n",
       "      <td>d</td>\n",
       "      <td>g</td>\n",
       "      <td>g</td>\n",
       "    </tr>\n",
       "    <tr>\n",
       "      <th>2</th>\n",
       "      <td>cf</td>\n",
       "      <td>sa</td>\n",
       "      <td>er</td>\n",
       "    </tr>\n",
       "  </tbody>\n",
       "</table>\n",
       "</div>"
      ],
      "text/plain": [
       "  col1 col2 col3\n",
       "0   12   24   53\n",
       "1    d    g    g\n",
       "2   cf   sa   er"
      ]
     },
     "execution_count": 29,
     "metadata": {},
     "output_type": "execute_result"
    }
   ],
   "source": [
    "# used to convert data ie string into csv form\n",
    "pd.read_csv(StringIO(data))"
   ]
  },
  {
   "cell_type": "code",
   "execution_count": null,
   "id": "1722a6d8",
   "metadata": {},
   "outputs": [
    {
     "data": {
      "text/html": [
       "<div>\n",
       "<style scoped>\n",
       "    .dataframe tbody tr th:only-of-type {\n",
       "        vertical-align: middle;\n",
       "    }\n",
       "\n",
       "    .dataframe tbody tr th {\n",
       "        vertical-align: top;\n",
       "    }\n",
       "\n",
       "    .dataframe thead th {\n",
       "        text-align: right;\n",
       "    }\n",
       "</style>\n",
       "<table border=\"1\" class=\"dataframe\">\n",
       "  <thead>\n",
       "    <tr style=\"text-align: right;\">\n",
       "      <th></th>\n",
       "      <th>col1</th>\n",
       "      <th>col3</th>\n",
       "    </tr>\n",
       "  </thead>\n",
       "  <tbody>\n",
       "    <tr>\n",
       "      <th>0</th>\n",
       "      <td>12</td>\n",
       "      <td>53</td>\n",
       "    </tr>\n",
       "    <tr>\n",
       "      <th>1</th>\n",
       "      <td>d</td>\n",
       "      <td>g</td>\n",
       "    </tr>\n",
       "    <tr>\n",
       "      <th>2</th>\n",
       "      <td>cf</td>\n",
       "      <td>er</td>\n",
       "    </tr>\n",
       "  </tbody>\n",
       "</table>\n",
       "</div>"
      ],
      "text/plain": [
       "  col1 col3\n",
       "0   12   53\n",
       "1    d    g\n",
       "2   cf   er"
      ]
     },
     "execution_count": 33,
     "metadata": {},
     "output_type": "execute_result"
    }
   ],
   "source": [
    "# for accessing the specific columns \n",
    "\n",
    "fl2 = pd.read_csv(StringIO(data),usecols=[\"col1\",\"col3\"])\n",
    "fl2"
   ]
  },
  {
   "cell_type": "code",
   "execution_count": null,
   "id": "31500cf2",
   "metadata": {},
   "outputs": [],
   "source": [
    "fl2.to_csv(\"test3.csv\")\n",
    "# used to save data files into csv extension"
   ]
  },
  {
   "cell_type": "code",
   "execution_count": 8,
   "id": "adad495c",
   "metadata": {},
   "outputs": [
    {
     "name": "stdout",
     "output_type": "stream",
     "text": [
      "a,b,c,d\n",
      "1,2,3,4\n",
      "6,7,8,9\n",
      "10,11,12,13\n"
     ]
    }
   ],
   "source": [
    "data1 = (\"a,b,c,d\\n\"\n",
    "         \"1,2,3,4\\n\"\n",
    "         \"6,7,8,9\\n\"\n",
    "         \"10,11,12,13\")\n",
    "\n",
    "print(data1)"
   ]
  },
  {
   "cell_type": "code",
   "execution_count": null,
   "id": "8360dc73",
   "metadata": {},
   "outputs": [
    {
     "data": {
      "text/plain": [
       "str"
      ]
     },
     "execution_count": 40,
     "metadata": {},
     "output_type": "execute_result"
    }
   ],
   "source": [
    "type(data1)"
   ]
  },
  {
   "cell_type": "code",
   "execution_count": 9,
   "id": "a103832e",
   "metadata": {},
   "outputs": [
    {
     "data": {
      "text/html": [
       "<div>\n",
       "<style scoped>\n",
       "    .dataframe tbody tr th:only-of-type {\n",
       "        vertical-align: middle;\n",
       "    }\n",
       "\n",
       "    .dataframe tbody tr th {\n",
       "        vertical-align: top;\n",
       "    }\n",
       "\n",
       "    .dataframe thead th {\n",
       "        text-align: right;\n",
       "    }\n",
       "</style>\n",
       "<table border=\"1\" class=\"dataframe\">\n",
       "  <thead>\n",
       "    <tr style=\"text-align: right;\">\n",
       "      <th></th>\n",
       "      <th>a</th>\n",
       "      <th>b</th>\n",
       "      <th>c</th>\n",
       "      <th>d</th>\n",
       "    </tr>\n",
       "  </thead>\n",
       "  <tbody>\n",
       "    <tr>\n",
       "      <th>0</th>\n",
       "      <td>1</td>\n",
       "      <td>2</td>\n",
       "      <td>3</td>\n",
       "      <td>4</td>\n",
       "    </tr>\n",
       "    <tr>\n",
       "      <th>1</th>\n",
       "      <td>6</td>\n",
       "      <td>7</td>\n",
       "      <td>8</td>\n",
       "      <td>9</td>\n",
       "    </tr>\n",
       "    <tr>\n",
       "      <th>2</th>\n",
       "      <td>10</td>\n",
       "      <td>11</td>\n",
       "      <td>12</td>\n",
       "      <td>13</td>\n",
       "    </tr>\n",
       "  </tbody>\n",
       "</table>\n",
       "</div>"
      ],
      "text/plain": [
       "    a   b   c   d\n",
       "0   1   2   3   4\n",
       "1   6   7   8   9\n",
       "2  10  11  12  13"
      ]
     },
     "execution_count": 9,
     "metadata": {},
     "output_type": "execute_result"
    }
   ],
   "source": [
    "# for changing the datatypes of values\n",
    "\n",
    "fl3= pd.read_csv(StringIO(data1),dtype=object)\n",
    "fl3"
   ]
  },
  {
   "cell_type": "code",
   "execution_count": null,
   "id": "ad08c39b",
   "metadata": {},
   "outputs": [
    {
     "data": {
      "text/plain": [
       "0     1\n",
       "1     6\n",
       "2    10\n",
       "Name: a, dtype: object"
      ]
     },
     "execution_count": 60,
     "metadata": {},
     "output_type": "execute_result"
    }
   ],
   "source": [
    "fl3['a']"
   ]
  },
  {
   "cell_type": "code",
   "execution_count": null,
   "id": "981c36ae",
   "metadata": {},
   "outputs": [
    {
     "data": {
      "text/plain": [
       "'11'"
      ]
     },
     "execution_count": 62,
     "metadata": {},
     "output_type": "execute_result"
    }
   ],
   "source": [
    "fl3[\"b\"][2]"
   ]
  },
  {
   "cell_type": "code",
   "execution_count": null,
   "id": "dd64aa6f",
   "metadata": {},
   "outputs": [
    {
     "data": {
      "text/html": [
       "<div>\n",
       "<style scoped>\n",
       "    .dataframe tbody tr th:only-of-type {\n",
       "        vertical-align: middle;\n",
       "    }\n",
       "\n",
       "    .dataframe tbody tr th {\n",
       "        vertical-align: top;\n",
       "    }\n",
       "\n",
       "    .dataframe thead th {\n",
       "        text-align: right;\n",
       "    }\n",
       "</style>\n",
       "<table border=\"1\" class=\"dataframe\">\n",
       "  <thead>\n",
       "    <tr style=\"text-align: right;\">\n",
       "      <th></th>\n",
       "      <th>a</th>\n",
       "      <th>b</th>\n",
       "      <th>c</th>\n",
       "      <th>d</th>\n",
       "    </tr>\n",
       "  </thead>\n",
       "  <tbody>\n",
       "    <tr>\n",
       "      <th>0</th>\n",
       "      <td>1</td>\n",
       "      <td>2.0</td>\n",
       "      <td>3</td>\n",
       "      <td>4</td>\n",
       "    </tr>\n",
       "    <tr>\n",
       "      <th>1</th>\n",
       "      <td>6</td>\n",
       "      <td>7.0</td>\n",
       "      <td>8</td>\n",
       "      <td>9</td>\n",
       "    </tr>\n",
       "    <tr>\n",
       "      <th>2</th>\n",
       "      <td>10</td>\n",
       "      <td>11.0</td>\n",
       "      <td>12</td>\n",
       "      <td>13</td>\n",
       "    </tr>\n",
       "  </tbody>\n",
       "</table>\n",
       "</div>"
      ],
      "text/plain": [
       "    a     b   c   d\n",
       "0   1   2.0   3   4\n",
       "1   6   7.0   8   9\n",
       "2  10  11.0  12  13"
      ]
     },
     "execution_count": 65,
     "metadata": {},
     "output_type": "execute_result"
    }
   ],
   "source": [
    "fl3= pd.read_csv(StringIO(data1),dtype={'a': int,'b' : float, \"c\" : object })\n",
    "fl3"
   ]
  },
  {
   "cell_type": "code",
   "execution_count": null,
   "id": "9cb85b0b",
   "metadata": {},
   "outputs": [
    {
     "data": {
      "text/plain": [
       "a      int64\n",
       "b    float64\n",
       "c     object\n",
       "d      int64\n",
       "dtype: object"
      ]
     },
     "execution_count": 69,
     "metadata": {},
     "output_type": "execute_result"
    }
   ],
   "source": [
    "fl3.dtypes"
   ]
  },
  {
   "cell_type": "code",
   "execution_count": null,
   "id": "88260ddd",
   "metadata": {},
   "outputs": [
    {
     "data": {
      "text/plain": [
       "numpy.float64"
      ]
     },
     "execution_count": 70,
     "metadata": {},
     "output_type": "execute_result"
    }
   ],
   "source": [
    "type(fl3[\"b\"][2])"
   ]
  },
  {
   "cell_type": "code",
   "execution_count": null,
   "id": "f8f2fb57",
   "metadata": {},
   "outputs": [
    {
     "data": {
      "text/html": [
       "<div>\n",
       "<style scoped>\n",
       "    .dataframe tbody tr th:only-of-type {\n",
       "        vertical-align: middle;\n",
       "    }\n",
       "\n",
       "    .dataframe tbody tr th {\n",
       "        vertical-align: top;\n",
       "    }\n",
       "\n",
       "    .dataframe thead th {\n",
       "        text-align: right;\n",
       "    }\n",
       "</style>\n",
       "<table border=\"1\" class=\"dataframe\">\n",
       "  <thead>\n",
       "    <tr style=\"text-align: right;\">\n",
       "      <th></th>\n",
       "      <th>a</th>\n",
       "      <th>b</th>\n",
       "      <th>d</th>\n",
       "    </tr>\n",
       "    <tr>\n",
       "      <th>c</th>\n",
       "      <th></th>\n",
       "      <th></th>\n",
       "      <th></th>\n",
       "    </tr>\n",
       "  </thead>\n",
       "  <tbody>\n",
       "    <tr>\n",
       "      <th>3</th>\n",
       "      <td>1</td>\n",
       "      <td>2</td>\n",
       "      <td>4</td>\n",
       "    </tr>\n",
       "    <tr>\n",
       "      <th>8</th>\n",
       "      <td>6</td>\n",
       "      <td>7</td>\n",
       "      <td>9</td>\n",
       "    </tr>\n",
       "    <tr>\n",
       "      <th>12</th>\n",
       "      <td>10</td>\n",
       "      <td>11</td>\n",
       "      <td>13</td>\n",
       "    </tr>\n",
       "  </tbody>\n",
       "</table>\n",
       "</div>"
      ],
      "text/plain": [
       "     a   b   d\n",
       "c             \n",
       "3    1   2   4\n",
       "8    6   7   9\n",
       "12  10  11  13"
      ]
     },
     "execution_count": 76,
     "metadata": {},
     "output_type": "execute_result"
    }
   ],
   "source": [
    "# for making a specific column as index \n",
    "fl4= pd.read_csv(StringIO(data1),index_col=2)\n",
    "fl4"
   ]
  },
  {
   "cell_type": "code",
   "execution_count": 10,
   "id": "5ca9e2e7",
   "metadata": {},
   "outputs": [
    {
     "data": {
      "text/html": [
       "<div>\n",
       "<style scoped>\n",
       "    .dataframe tbody tr th:only-of-type {\n",
       "        vertical-align: middle;\n",
       "    }\n",
       "\n",
       "    .dataframe tbody tr th {\n",
       "        vertical-align: top;\n",
       "    }\n",
       "\n",
       "    .dataframe thead th {\n",
       "        text-align: right;\n",
       "    }\n",
       "</style>\n",
       "<table border=\"1\" class=\"dataframe\">\n",
       "  <thead>\n",
       "    <tr style=\"text-align: right;\">\n",
       "      <th></th>\n",
       "      <th>b</th>\n",
       "      <th>c</th>\n",
       "    </tr>\n",
       "  </thead>\n",
       "  <tbody>\n",
       "    <tr>\n",
       "      <th>0</th>\n",
       "      <td>2</td>\n",
       "      <td>3</td>\n",
       "    </tr>\n",
       "    <tr>\n",
       "      <th>1</th>\n",
       "      <td>7</td>\n",
       "      <td>8</td>\n",
       "    </tr>\n",
       "    <tr>\n",
       "      <th>2</th>\n",
       "      <td>11</td>\n",
       "      <td>12</td>\n",
       "    </tr>\n",
       "  </tbody>\n",
       "</table>\n",
       "</div>"
      ],
      "text/plain": [
       "    b   c\n",
       "0   2   3\n",
       "1   7   8\n",
       "2  11  12"
      ]
     },
     "execution_count": 10,
     "metadata": {},
     "output_type": "execute_result"
    }
   ],
   "source": [
    "#combining the usecols and index_col\n",
    "fl5= pd.read_csv(StringIO(data1),usecols=['b','c'], index_col=False)\n",
    "fl5\n"
   ]
  },
  {
   "cell_type": "code",
   "execution_count": 11,
   "id": "9a35a093",
   "metadata": {},
   "outputs": [],
   "source": [
    "# Quoting and Escape characters\n",
    "data3 = 'a,b\\n\"hello, \\\\\"Bob\\\\\", nice to meet u\",5'"
   ]
  },
  {
   "cell_type": "code",
   "execution_count": 12,
   "id": "7649ee46",
   "metadata": {},
   "outputs": [
    {
     "data": {
      "text/html": [
       "<div>\n",
       "<style scoped>\n",
       "    .dataframe tbody tr th:only-of-type {\n",
       "        vertical-align: middle;\n",
       "    }\n",
       "\n",
       "    .dataframe tbody tr th {\n",
       "        vertical-align: top;\n",
       "    }\n",
       "\n",
       "    .dataframe thead th {\n",
       "        text-align: right;\n",
       "    }\n",
       "</style>\n",
       "<table border=\"1\" class=\"dataframe\">\n",
       "  <thead>\n",
       "    <tr style=\"text-align: right;\">\n",
       "      <th></th>\n",
       "      <th>a</th>\n",
       "      <th>b</th>\n",
       "    </tr>\n",
       "  </thead>\n",
       "  <tbody>\n",
       "    <tr>\n",
       "      <th>0</th>\n",
       "      <td>hello, \"Bob\", nice to meet u</td>\n",
       "      <td>5</td>\n",
       "    </tr>\n",
       "  </tbody>\n",
       "</table>\n",
       "</div>"
      ],
      "text/plain": [
       "                              a  b\n",
       "0  hello, \"Bob\", nice to meet u  5"
      ]
     },
     "execution_count": 12,
     "metadata": {},
     "output_type": "execute_result"
    }
   ],
   "source": [
    "pd.read_csv(StringIO(data3),escapechar='\\\\')\n"
   ]
  },
  {
   "cell_type": "markdown",
   "id": "254531e3",
   "metadata": {},
   "source": [
    "# Read Json to CSV\n",
    "- Format: Hierarchical, key–value pairs (nested)."
   ]
  },
  {
   "cell_type": "code",
   "execution_count": 29,
   "id": "d78cad64",
   "metadata": {},
   "outputs": [],
   "source": [
    "data4 =   '{\"id\": 1, \"name\": \"Alice\", \"age\": 24,  \"address\": [{\"city\": \"Delhi\", \"pin\": 110001}]}'"
   ]
  },
  {
   "cell_type": "code",
   "execution_count": 46,
   "id": "08311a88",
   "metadata": {},
   "outputs": [
    {
     "name": "stderr",
     "output_type": "stream",
     "text": [
      "C:\\Users\\HP\\AppData\\Local\\Temp\\ipykernel_284\\894485398.py:1: FutureWarning: Passing literal json to 'read_json' is deprecated and will be removed in a future version. To read from a literal string, wrap it in a 'StringIO' object.\n",
      "  df2 = pd.read_json(data4)\n"
     ]
    },
    {
     "data": {
      "text/html": [
       "<div>\n",
       "<style scoped>\n",
       "    .dataframe tbody tr th:only-of-type {\n",
       "        vertical-align: middle;\n",
       "    }\n",
       "\n",
       "    .dataframe tbody tr th {\n",
       "        vertical-align: top;\n",
       "    }\n",
       "\n",
       "    .dataframe thead th {\n",
       "        text-align: right;\n",
       "    }\n",
       "</style>\n",
       "<table border=\"1\" class=\"dataframe\">\n",
       "  <thead>\n",
       "    <tr style=\"text-align: right;\">\n",
       "      <th></th>\n",
       "      <th>id</th>\n",
       "      <th>name</th>\n",
       "      <th>age</th>\n",
       "      <th>address</th>\n",
       "    </tr>\n",
       "  </thead>\n",
       "  <tbody>\n",
       "    <tr>\n",
       "      <th>0</th>\n",
       "      <td>1</td>\n",
       "      <td>Alice</td>\n",
       "      <td>24</td>\n",
       "      <td>{'city': 'Delhi', 'pin': 110001}</td>\n",
       "    </tr>\n",
       "  </tbody>\n",
       "</table>\n",
       "</div>"
      ],
      "text/plain": [
       "   id   name  age                           address\n",
       "0   1  Alice   24  {'city': 'Delhi', 'pin': 110001}"
      ]
     },
     "execution_count": 46,
     "metadata": {},
     "output_type": "execute_result"
    }
   ],
   "source": [
    "df2 = pd.read_json(data4)\n",
    "df2"
   ]
  },
  {
   "cell_type": "code",
   "execution_count": 44,
   "id": "7e6e9b13",
   "metadata": {},
   "outputs": [
    {
     "data": {
      "text/html": [
       "<div>\n",
       "<style scoped>\n",
       "    .dataframe tbody tr th:only-of-type {\n",
       "        vertical-align: middle;\n",
       "    }\n",
       "\n",
       "    .dataframe tbody tr th {\n",
       "        vertical-align: top;\n",
       "    }\n",
       "\n",
       "    .dataframe thead th {\n",
       "        text-align: right;\n",
       "    }\n",
       "</style>\n",
       "<table border=\"1\" class=\"dataframe\">\n",
       "  <thead>\n",
       "    <tr style=\"text-align: right;\">\n",
       "      <th></th>\n",
       "      <th>sepalLength</th>\n",
       "      <th>sepalWidth</th>\n",
       "      <th>petalLength</th>\n",
       "      <th>petalWidth</th>\n",
       "      <th>species</th>\n",
       "    </tr>\n",
       "  </thead>\n",
       "  <tbody>\n",
       "    <tr>\n",
       "      <th>0</th>\n",
       "      <td>5.1</td>\n",
       "      <td>3.5</td>\n",
       "      <td>1.4</td>\n",
       "      <td>0.2</td>\n",
       "      <td>setosa</td>\n",
       "    </tr>\n",
       "    <tr>\n",
       "      <th>1</th>\n",
       "      <td>4.9</td>\n",
       "      <td>3.0</td>\n",
       "      <td>1.4</td>\n",
       "      <td>0.2</td>\n",
       "      <td>setosa</td>\n",
       "    </tr>\n",
       "    <tr>\n",
       "      <th>2</th>\n",
       "      <td>4.7</td>\n",
       "      <td>3.2</td>\n",
       "      <td>1.3</td>\n",
       "      <td>0.2</td>\n",
       "      <td>setosa</td>\n",
       "    </tr>\n",
       "    <tr>\n",
       "      <th>3</th>\n",
       "      <td>4.6</td>\n",
       "      <td>3.1</td>\n",
       "      <td>1.5</td>\n",
       "      <td>0.2</td>\n",
       "      <td>setosa</td>\n",
       "    </tr>\n",
       "    <tr>\n",
       "      <th>4</th>\n",
       "      <td>5.0</td>\n",
       "      <td>3.6</td>\n",
       "      <td>1.4</td>\n",
       "      <td>0.2</td>\n",
       "      <td>setosa</td>\n",
       "    </tr>\n",
       "    <tr>\n",
       "      <th>...</th>\n",
       "      <td>...</td>\n",
       "      <td>...</td>\n",
       "      <td>...</td>\n",
       "      <td>...</td>\n",
       "      <td>...</td>\n",
       "    </tr>\n",
       "    <tr>\n",
       "      <th>145</th>\n",
       "      <td>6.7</td>\n",
       "      <td>3.0</td>\n",
       "      <td>5.2</td>\n",
       "      <td>2.3</td>\n",
       "      <td>virginica</td>\n",
       "    </tr>\n",
       "    <tr>\n",
       "      <th>146</th>\n",
       "      <td>6.3</td>\n",
       "      <td>2.5</td>\n",
       "      <td>5.0</td>\n",
       "      <td>1.9</td>\n",
       "      <td>virginica</td>\n",
       "    </tr>\n",
       "    <tr>\n",
       "      <th>147</th>\n",
       "      <td>6.5</td>\n",
       "      <td>3.0</td>\n",
       "      <td>5.2</td>\n",
       "      <td>2.0</td>\n",
       "      <td>virginica</td>\n",
       "    </tr>\n",
       "    <tr>\n",
       "      <th>148</th>\n",
       "      <td>6.2</td>\n",
       "      <td>3.4</td>\n",
       "      <td>5.4</td>\n",
       "      <td>2.3</td>\n",
       "      <td>virginica</td>\n",
       "    </tr>\n",
       "    <tr>\n",
       "      <th>149</th>\n",
       "      <td>5.9</td>\n",
       "      <td>3.0</td>\n",
       "      <td>5.1</td>\n",
       "      <td>1.8</td>\n",
       "      <td>virginica</td>\n",
       "    </tr>\n",
       "  </tbody>\n",
       "</table>\n",
       "<p>150 rows × 5 columns</p>\n",
       "</div>"
      ],
      "text/plain": [
       "     sepalLength  sepalWidth  petalLength  petalWidth    species\n",
       "0            5.1         3.5          1.4         0.2     setosa\n",
       "1            4.9         3.0          1.4         0.2     setosa\n",
       "2            4.7         3.2          1.3         0.2     setosa\n",
       "3            4.6         3.1          1.5         0.2     setosa\n",
       "4            5.0         3.6          1.4         0.2     setosa\n",
       "..           ...         ...          ...         ...        ...\n",
       "145          6.7         3.0          5.2         2.3  virginica\n",
       "146          6.3         2.5          5.0         1.9  virginica\n",
       "147          6.5         3.0          5.2         2.0  virginica\n",
       "148          6.2         3.4          5.4         2.3  virginica\n",
       "149          5.9         3.0          5.1         1.8  virginica\n",
       "\n",
       "[150 rows x 5 columns]"
      ]
     },
     "execution_count": 44,
     "metadata": {},
     "output_type": "execute_result"
    }
   ],
   "source": [
    "df1 = pd.read_json(\"iris.json\")\n",
    "df1"
   ]
  },
  {
   "cell_type": "code",
   "execution_count": 40,
   "id": "25734cda",
   "metadata": {},
   "outputs": [],
   "source": [
    "df1.to_csv(\"Iris.csv\")"
   ]
  },
  {
   "cell_type": "code",
   "execution_count": 47,
   "id": "c69bbf82",
   "metadata": {},
   "outputs": [
    {
     "data": {
      "text/html": [
       "<div>\n",
       "<style scoped>\n",
       "    .dataframe tbody tr th:only-of-type {\n",
       "        vertical-align: middle;\n",
       "    }\n",
       "\n",
       "    .dataframe tbody tr th {\n",
       "        vertical-align: top;\n",
       "    }\n",
       "\n",
       "    .dataframe thead th {\n",
       "        text-align: right;\n",
       "    }\n",
       "</style>\n",
       "<table border=\"1\" class=\"dataframe\">\n",
       "  <thead>\n",
       "    <tr style=\"text-align: right;\">\n",
       "      <th></th>\n",
       "      <th>sepalLength</th>\n",
       "      <th>sepalWidth</th>\n",
       "      <th>petalLength</th>\n",
       "      <th>petalWidth</th>\n",
       "      <th>species</th>\n",
       "    </tr>\n",
       "  </thead>\n",
       "  <tbody>\n",
       "    <tr>\n",
       "      <th>0</th>\n",
       "      <td>5.1</td>\n",
       "      <td>3.5</td>\n",
       "      <td>1.4</td>\n",
       "      <td>0.2</td>\n",
       "      <td>setosa</td>\n",
       "    </tr>\n",
       "    <tr>\n",
       "      <th>1</th>\n",
       "      <td>4.9</td>\n",
       "      <td>3.0</td>\n",
       "      <td>1.4</td>\n",
       "      <td>0.2</td>\n",
       "      <td>setosa</td>\n",
       "    </tr>\n",
       "    <tr>\n",
       "      <th>2</th>\n",
       "      <td>4.7</td>\n",
       "      <td>3.2</td>\n",
       "      <td>1.3</td>\n",
       "      <td>0.2</td>\n",
       "      <td>setosa</td>\n",
       "    </tr>\n",
       "    <tr>\n",
       "      <th>3</th>\n",
       "      <td>4.6</td>\n",
       "      <td>3.1</td>\n",
       "      <td>1.5</td>\n",
       "      <td>0.2</td>\n",
       "      <td>setosa</td>\n",
       "    </tr>\n",
       "    <tr>\n",
       "      <th>4</th>\n",
       "      <td>5.0</td>\n",
       "      <td>3.6</td>\n",
       "      <td>1.4</td>\n",
       "      <td>0.2</td>\n",
       "      <td>setosa</td>\n",
       "    </tr>\n",
       "    <tr>\n",
       "      <th>...</th>\n",
       "      <td>...</td>\n",
       "      <td>...</td>\n",
       "      <td>...</td>\n",
       "      <td>...</td>\n",
       "      <td>...</td>\n",
       "    </tr>\n",
       "    <tr>\n",
       "      <th>145</th>\n",
       "      <td>6.7</td>\n",
       "      <td>3.0</td>\n",
       "      <td>5.2</td>\n",
       "      <td>2.3</td>\n",
       "      <td>virginica</td>\n",
       "    </tr>\n",
       "    <tr>\n",
       "      <th>146</th>\n",
       "      <td>6.3</td>\n",
       "      <td>2.5</td>\n",
       "      <td>5.0</td>\n",
       "      <td>1.9</td>\n",
       "      <td>virginica</td>\n",
       "    </tr>\n",
       "    <tr>\n",
       "      <th>147</th>\n",
       "      <td>6.5</td>\n",
       "      <td>3.0</td>\n",
       "      <td>5.2</td>\n",
       "      <td>2.0</td>\n",
       "      <td>virginica</td>\n",
       "    </tr>\n",
       "    <tr>\n",
       "      <th>148</th>\n",
       "      <td>6.2</td>\n",
       "      <td>3.4</td>\n",
       "      <td>5.4</td>\n",
       "      <td>2.3</td>\n",
       "      <td>virginica</td>\n",
       "    </tr>\n",
       "    <tr>\n",
       "      <th>149</th>\n",
       "      <td>5.9</td>\n",
       "      <td>3.0</td>\n",
       "      <td>5.1</td>\n",
       "      <td>1.8</td>\n",
       "      <td>virginica</td>\n",
       "    </tr>\n",
       "  </tbody>\n",
       "</table>\n",
       "<p>150 rows × 5 columns</p>\n",
       "</div>"
      ],
      "text/plain": [
       "     sepalLength  sepalWidth  petalLength  petalWidth    species\n",
       "0            5.1         3.5          1.4         0.2     setosa\n",
       "1            4.9         3.0          1.4         0.2     setosa\n",
       "2            4.7         3.2          1.3         0.2     setosa\n",
       "3            4.6         3.1          1.5         0.2     setosa\n",
       "4            5.0         3.6          1.4         0.2     setosa\n",
       "..           ...         ...          ...         ...        ...\n",
       "145          6.7         3.0          5.2         2.3  virginica\n",
       "146          6.3         2.5          5.0         1.9  virginica\n",
       "147          6.5         3.0          5.2         2.0  virginica\n",
       "148          6.2         3.4          5.4         2.3  virginica\n",
       "149          5.9         3.0          5.1         1.8  virginica\n",
       "\n",
       "[150 rows x 5 columns]"
      ]
     },
     "execution_count": 47,
     "metadata": {},
     "output_type": "execute_result"
    }
   ],
   "source": [
    "pd.read_csv(\"Iris.csv\", index_col=0)"
   ]
  },
  {
   "cell_type": "code",
   "execution_count": 50,
   "id": "a11715db",
   "metadata": {},
   "outputs": [
    {
     "data": {
      "text/plain": [
       "'{\"id\":{\"0\":1},\"name\":{\"0\":\"Alice\"},\"age\":{\"0\":24},\"address\":{\"0\":{\"city\":\"Delhi\",\"pin\":110001}}}'"
      ]
     },
     "execution_count": 50,
     "metadata": {},
     "output_type": "execute_result"
    }
   ],
   "source": [
    "# Converting Json to different json format\n",
    "\n",
    "df2.to_json()"
   ]
  },
  {
   "cell_type": "code",
   "execution_count": 53,
   "id": "fce2f878",
   "metadata": {},
   "outputs": [
    {
     "data": {
      "text/plain": [
       "'[{\"id\":1,\"name\":\"Alice\",\"age\":24,\"address\":{\"city\":\"Delhi\",\"pin\":110001}}]'"
      ]
     },
     "execution_count": 53,
     "metadata": {},
     "output_type": "execute_result"
    }
   ],
   "source": [
    "df2.to_json(orient='records')"
   ]
  },
  {
   "cell_type": "code",
   "execution_count": 54,
   "id": "e2001b2e",
   "metadata": {},
   "outputs": [
    {
     "data": {
      "text/plain": [
       "'{\"sepalLength\":{\"0\":5.1,\"1\":4.9,\"2\":4.7,\"3\":4.6,\"4\":5.0,\"5\":5.4,\"6\":4.6,\"7\":5.0,\"8\":4.4,\"9\":4.9,\"10\":5.4,\"11\":4.8,\"12\":4.8,\"13\":4.3,\"14\":5.8,\"15\":5.7,\"16\":5.4,\"17\":5.1,\"18\":5.7,\"19\":5.1,\"20\":5.4,\"21\":5.1,\"22\":4.6,\"23\":5.1,\"24\":4.8,\"25\":5.0,\"26\":5.0,\"27\":5.2,\"28\":5.2,\"29\":4.7,\"30\":4.8,\"31\":5.4,\"32\":5.2,\"33\":5.5,\"34\":4.9,\"35\":5.0,\"36\":5.5,\"37\":4.9,\"38\":4.4,\"39\":5.1,\"40\":5.0,\"41\":4.5,\"42\":4.4,\"43\":5.0,\"44\":5.1,\"45\":4.8,\"46\":5.1,\"47\":4.6,\"48\":5.3,\"49\":5.0,\"50\":7.0,\"51\":6.4,\"52\":6.9,\"53\":5.5,\"54\":6.5,\"55\":5.7,\"56\":6.3,\"57\":4.9,\"58\":6.6,\"59\":5.2,\"60\":5.0,\"61\":5.9,\"62\":6.0,\"63\":6.1,\"64\":5.6,\"65\":6.7,\"66\":5.6,\"67\":5.8,\"68\":6.2,\"69\":5.6,\"70\":5.9,\"71\":6.1,\"72\":6.3,\"73\":6.1,\"74\":6.4,\"75\":6.6,\"76\":6.8,\"77\":6.7,\"78\":6.0,\"79\":5.7,\"80\":5.5,\"81\":5.5,\"82\":5.8,\"83\":6.0,\"84\":5.4,\"85\":6.0,\"86\":6.7,\"87\":6.3,\"88\":5.6,\"89\":5.5,\"90\":5.5,\"91\":6.1,\"92\":5.8,\"93\":5.0,\"94\":5.6,\"95\":5.7,\"96\":5.7,\"97\":6.2,\"98\":5.1,\"99\":5.7,\"100\":6.3,\"101\":5.8,\"102\":7.1,\"103\":6.3,\"104\":6.5,\"105\":7.6,\"106\":4.9,\"107\":7.3,\"108\":6.7,\"109\":7.2,\"110\":6.5,\"111\":6.4,\"112\":6.8,\"113\":5.7,\"114\":5.8,\"115\":6.4,\"116\":6.5,\"117\":7.7,\"118\":7.7,\"119\":6.0,\"120\":6.9,\"121\":5.6,\"122\":7.7,\"123\":6.3,\"124\":6.7,\"125\":7.2,\"126\":6.2,\"127\":6.1,\"128\":6.4,\"129\":7.2,\"130\":7.4,\"131\":7.9,\"132\":6.4,\"133\":6.3,\"134\":6.1,\"135\":7.7,\"136\":6.3,\"137\":6.4,\"138\":6.0,\"139\":6.9,\"140\":6.7,\"141\":6.9,\"142\":5.8,\"143\":6.8,\"144\":6.7,\"145\":6.7,\"146\":6.3,\"147\":6.5,\"148\":6.2,\"149\":5.9},\"sepalWidth\":{\"0\":3.5,\"1\":3.0,\"2\":3.2,\"3\":3.1,\"4\":3.6,\"5\":3.9,\"6\":3.4,\"7\":3.4,\"8\":2.9,\"9\":3.1,\"10\":3.7,\"11\":3.4,\"12\":3.0,\"13\":3.0,\"14\":4.0,\"15\":4.4,\"16\":3.9,\"17\":3.5,\"18\":3.8,\"19\":3.8,\"20\":3.4,\"21\":3.7,\"22\":3.6,\"23\":3.3,\"24\":3.4,\"25\":3.0,\"26\":3.4,\"27\":3.5,\"28\":3.4,\"29\":3.2,\"30\":3.1,\"31\":3.4,\"32\":4.1,\"33\":4.2,\"34\":3.1,\"35\":3.2,\"36\":3.5,\"37\":3.6,\"38\":3.0,\"39\":3.4,\"40\":3.5,\"41\":2.3,\"42\":3.2,\"43\":3.5,\"44\":3.8,\"45\":3.0,\"46\":3.8,\"47\":3.2,\"48\":3.7,\"49\":3.3,\"50\":3.2,\"51\":3.2,\"52\":3.1,\"53\":2.3,\"54\":2.8,\"55\":2.8,\"56\":3.3,\"57\":2.4,\"58\":2.9,\"59\":2.7,\"60\":2.0,\"61\":3.0,\"62\":2.2,\"63\":2.9,\"64\":2.9,\"65\":3.1,\"66\":3.0,\"67\":2.7,\"68\":2.2,\"69\":2.5,\"70\":3.2,\"71\":2.8,\"72\":2.5,\"73\":2.8,\"74\":2.9,\"75\":3.0,\"76\":2.8,\"77\":3.0,\"78\":2.9,\"79\":2.6,\"80\":2.4,\"81\":2.4,\"82\":2.7,\"83\":2.7,\"84\":3.0,\"85\":3.4,\"86\":3.1,\"87\":2.3,\"88\":3.0,\"89\":2.5,\"90\":2.6,\"91\":3.0,\"92\":2.6,\"93\":2.3,\"94\":2.7,\"95\":3.0,\"96\":2.9,\"97\":2.9,\"98\":2.5,\"99\":2.8,\"100\":3.3,\"101\":2.7,\"102\":3.0,\"103\":2.9,\"104\":3.0,\"105\":3.0,\"106\":2.5,\"107\":2.9,\"108\":2.5,\"109\":3.6,\"110\":3.2,\"111\":2.7,\"112\":3.0,\"113\":2.5,\"114\":2.8,\"115\":3.2,\"116\":3.0,\"117\":3.8,\"118\":2.6,\"119\":2.2,\"120\":3.2,\"121\":2.8,\"122\":2.8,\"123\":2.7,\"124\":3.3,\"125\":3.2,\"126\":2.8,\"127\":3.0,\"128\":2.8,\"129\":3.0,\"130\":2.8,\"131\":3.8,\"132\":2.8,\"133\":2.8,\"134\":2.6,\"135\":3.0,\"136\":3.4,\"137\":3.1,\"138\":3.0,\"139\":3.1,\"140\":3.1,\"141\":3.1,\"142\":2.7,\"143\":3.2,\"144\":3.3,\"145\":3.0,\"146\":2.5,\"147\":3.0,\"148\":3.4,\"149\":3.0},\"petalLength\":{\"0\":1.4,\"1\":1.4,\"2\":1.3,\"3\":1.5,\"4\":1.4,\"5\":1.7,\"6\":1.4,\"7\":1.5,\"8\":1.4,\"9\":1.5,\"10\":1.5,\"11\":1.6,\"12\":1.4,\"13\":1.1,\"14\":1.2,\"15\":1.5,\"16\":1.3,\"17\":1.4,\"18\":1.7,\"19\":1.5,\"20\":1.7,\"21\":1.5,\"22\":1.0,\"23\":1.7,\"24\":1.9,\"25\":1.6,\"26\":1.6,\"27\":1.5,\"28\":1.4,\"29\":1.6,\"30\":1.6,\"31\":1.5,\"32\":1.5,\"33\":1.4,\"34\":1.5,\"35\":1.2,\"36\":1.3,\"37\":1.4,\"38\":1.3,\"39\":1.5,\"40\":1.3,\"41\":1.3,\"42\":1.3,\"43\":1.6,\"44\":1.9,\"45\":1.4,\"46\":1.6,\"47\":1.4,\"48\":1.5,\"49\":1.4,\"50\":4.7,\"51\":4.5,\"52\":4.9,\"53\":4.0,\"54\":4.6,\"55\":4.5,\"56\":4.7,\"57\":3.3,\"58\":4.6,\"59\":3.9,\"60\":3.5,\"61\":4.2,\"62\":4.0,\"63\":4.7,\"64\":3.6,\"65\":4.4,\"66\":4.5,\"67\":4.1,\"68\":4.5,\"69\":3.9,\"70\":4.8,\"71\":4.0,\"72\":4.9,\"73\":4.7,\"74\":4.3,\"75\":4.4,\"76\":4.8,\"77\":5.0,\"78\":4.5,\"79\":3.5,\"80\":3.8,\"81\":3.7,\"82\":3.9,\"83\":5.1,\"84\":4.5,\"85\":4.5,\"86\":4.7,\"87\":4.4,\"88\":4.1,\"89\":4.0,\"90\":4.4,\"91\":4.6,\"92\":4.0,\"93\":3.3,\"94\":4.2,\"95\":4.2,\"96\":4.2,\"97\":4.3,\"98\":3.0,\"99\":4.1,\"100\":6.0,\"101\":5.1,\"102\":5.9,\"103\":5.6,\"104\":5.8,\"105\":6.6,\"106\":4.5,\"107\":6.3,\"108\":5.8,\"109\":6.1,\"110\":5.1,\"111\":5.3,\"112\":5.5,\"113\":5.0,\"114\":5.1,\"115\":5.3,\"116\":5.5,\"117\":6.7,\"118\":6.9,\"119\":5.0,\"120\":5.7,\"121\":4.9,\"122\":6.7,\"123\":4.9,\"124\":5.7,\"125\":6.0,\"126\":4.8,\"127\":4.9,\"128\":5.6,\"129\":5.8,\"130\":6.1,\"131\":6.4,\"132\":5.6,\"133\":5.1,\"134\":5.6,\"135\":6.1,\"136\":5.6,\"137\":5.5,\"138\":4.8,\"139\":5.4,\"140\":5.6,\"141\":5.1,\"142\":5.1,\"143\":5.9,\"144\":5.7,\"145\":5.2,\"146\":5.0,\"147\":5.2,\"148\":5.4,\"149\":5.1},\"petalWidth\":{\"0\":0.2,\"1\":0.2,\"2\":0.2,\"3\":0.2,\"4\":0.2,\"5\":0.4,\"6\":0.3,\"7\":0.2,\"8\":0.2,\"9\":0.1,\"10\":0.2,\"11\":0.2,\"12\":0.1,\"13\":0.1,\"14\":0.2,\"15\":0.4,\"16\":0.4,\"17\":0.3,\"18\":0.3,\"19\":0.3,\"20\":0.2,\"21\":0.4,\"22\":0.2,\"23\":0.5,\"24\":0.2,\"25\":0.2,\"26\":0.4,\"27\":0.2,\"28\":0.2,\"29\":0.2,\"30\":0.2,\"31\":0.4,\"32\":0.1,\"33\":0.2,\"34\":0.2,\"35\":0.2,\"36\":0.2,\"37\":0.1,\"38\":0.2,\"39\":0.2,\"40\":0.3,\"41\":0.3,\"42\":0.2,\"43\":0.6,\"44\":0.4,\"45\":0.3,\"46\":0.2,\"47\":0.2,\"48\":0.2,\"49\":0.2,\"50\":1.4,\"51\":1.5,\"52\":1.5,\"53\":1.3,\"54\":1.5,\"55\":1.3,\"56\":1.6,\"57\":1.0,\"58\":1.3,\"59\":1.4,\"60\":1.0,\"61\":1.5,\"62\":1.0,\"63\":1.4,\"64\":1.3,\"65\":1.4,\"66\":1.5,\"67\":1.0,\"68\":1.5,\"69\":1.1,\"70\":1.8,\"71\":1.3,\"72\":1.5,\"73\":1.2,\"74\":1.3,\"75\":1.4,\"76\":1.4,\"77\":1.7,\"78\":1.5,\"79\":1.0,\"80\":1.1,\"81\":1.0,\"82\":1.2,\"83\":1.6,\"84\":1.5,\"85\":1.6,\"86\":1.5,\"87\":1.3,\"88\":1.3,\"89\":1.3,\"90\":1.2,\"91\":1.4,\"92\":1.2,\"93\":1.0,\"94\":1.3,\"95\":1.2,\"96\":1.3,\"97\":1.3,\"98\":1.1,\"99\":1.3,\"100\":2.5,\"101\":1.9,\"102\":2.1,\"103\":1.8,\"104\":2.2,\"105\":2.1,\"106\":1.7,\"107\":1.8,\"108\":1.8,\"109\":2.5,\"110\":2.0,\"111\":1.9,\"112\":2.1,\"113\":2.0,\"114\":2.4,\"115\":2.3,\"116\":1.8,\"117\":2.2,\"118\":2.3,\"119\":1.5,\"120\":2.3,\"121\":2.0,\"122\":2.0,\"123\":1.8,\"124\":2.1,\"125\":1.8,\"126\":1.8,\"127\":1.8,\"128\":2.1,\"129\":1.6,\"130\":1.9,\"131\":2.0,\"132\":2.2,\"133\":1.5,\"134\":1.4,\"135\":2.3,\"136\":2.4,\"137\":1.8,\"138\":1.8,\"139\":2.1,\"140\":2.4,\"141\":2.3,\"142\":1.9,\"143\":2.3,\"144\":2.5,\"145\":2.3,\"146\":1.9,\"147\":2.0,\"148\":2.3,\"149\":1.8},\"species\":{\"0\":\"setosa\",\"1\":\"setosa\",\"2\":\"setosa\",\"3\":\"setosa\",\"4\":\"setosa\",\"5\":\"setosa\",\"6\":\"setosa\",\"7\":\"setosa\",\"8\":\"setosa\",\"9\":\"setosa\",\"10\":\"setosa\",\"11\":\"setosa\",\"12\":\"setosa\",\"13\":\"setosa\",\"14\":\"setosa\",\"15\":\"setosa\",\"16\":\"setosa\",\"17\":\"setosa\",\"18\":\"setosa\",\"19\":\"setosa\",\"20\":\"setosa\",\"21\":\"setosa\",\"22\":\"setosa\",\"23\":\"setosa\",\"24\":\"setosa\",\"25\":\"setosa\",\"26\":\"setosa\",\"27\":\"setosa\",\"28\":\"setosa\",\"29\":\"setosa\",\"30\":\"setosa\",\"31\":\"setosa\",\"32\":\"setosa\",\"33\":\"setosa\",\"34\":\"setosa\",\"35\":\"setosa\",\"36\":\"setosa\",\"37\":\"setosa\",\"38\":\"setosa\",\"39\":\"setosa\",\"40\":\"setosa\",\"41\":\"setosa\",\"42\":\"setosa\",\"43\":\"setosa\",\"44\":\"setosa\",\"45\":\"setosa\",\"46\":\"setosa\",\"47\":\"setosa\",\"48\":\"setosa\",\"49\":\"setosa\",\"50\":\"versicolor\",\"51\":\"versicolor\",\"52\":\"versicolor\",\"53\":\"versicolor\",\"54\":\"versicolor\",\"55\":\"versicolor\",\"56\":\"versicolor\",\"57\":\"versicolor\",\"58\":\"versicolor\",\"59\":\"versicolor\",\"60\":\"versicolor\",\"61\":\"versicolor\",\"62\":\"versicolor\",\"63\":\"versicolor\",\"64\":\"versicolor\",\"65\":\"versicolor\",\"66\":\"versicolor\",\"67\":\"versicolor\",\"68\":\"versicolor\",\"69\":\"versicolor\",\"70\":\"versicolor\",\"71\":\"versicolor\",\"72\":\"versicolor\",\"73\":\"versicolor\",\"74\":\"versicolor\",\"75\":\"versicolor\",\"76\":\"versicolor\",\"77\":\"versicolor\",\"78\":\"versicolor\",\"79\":\"versicolor\",\"80\":\"versicolor\",\"81\":\"versicolor\",\"82\":\"versicolor\",\"83\":\"versicolor\",\"84\":\"versicolor\",\"85\":\"versicolor\",\"86\":\"versicolor\",\"87\":\"versicolor\",\"88\":\"versicolor\",\"89\":\"versicolor\",\"90\":\"versicolor\",\"91\":\"versicolor\",\"92\":\"versicolor\",\"93\":\"versicolor\",\"94\":\"versicolor\",\"95\":\"versicolor\",\"96\":\"versicolor\",\"97\":\"versicolor\",\"98\":\"versicolor\",\"99\":\"versicolor\",\"100\":\"virginica\",\"101\":\"virginica\",\"102\":\"virginica\",\"103\":\"virginica\",\"104\":\"virginica\",\"105\":\"virginica\",\"106\":\"virginica\",\"107\":\"virginica\",\"108\":\"virginica\",\"109\":\"virginica\",\"110\":\"virginica\",\"111\":\"virginica\",\"112\":\"virginica\",\"113\":\"virginica\",\"114\":\"virginica\",\"115\":\"virginica\",\"116\":\"virginica\",\"117\":\"virginica\",\"118\":\"virginica\",\"119\":\"virginica\",\"120\":\"virginica\",\"121\":\"virginica\",\"122\":\"virginica\",\"123\":\"virginica\",\"124\":\"virginica\",\"125\":\"virginica\",\"126\":\"virginica\",\"127\":\"virginica\",\"128\":\"virginica\",\"129\":\"virginica\",\"130\":\"virginica\",\"131\":\"virginica\",\"132\":\"virginica\",\"133\":\"virginica\",\"134\":\"virginica\",\"135\":\"virginica\",\"136\":\"virginica\",\"137\":\"virginica\",\"138\":\"virginica\",\"139\":\"virginica\",\"140\":\"virginica\",\"141\":\"virginica\",\"142\":\"virginica\",\"143\":\"virginica\",\"144\":\"virginica\",\"145\":\"virginica\",\"146\":\"virginica\",\"147\":\"virginica\",\"148\":\"virginica\",\"149\":\"virginica\"}}'"
      ]
     },
     "execution_count": 54,
     "metadata": {},
     "output_type": "execute_result"
    }
   ],
   "source": [
    "df1.to_json()"
   ]
  }
 ],
 "metadata": {
  "kernelspec": {
   "display_name": ".venv (3.13.5)",
   "language": "python",
   "name": "python3"
  },
  "language_info": {
   "codemirror_mode": {
    "name": "ipython",
    "version": 3
   },
   "file_extension": ".py",
   "mimetype": "text/x-python",
   "name": "python",
   "nbconvert_exporter": "python",
   "pygments_lexer": "ipython3",
   "version": "3.13.5"
  }
 },
 "nbformat": 4,
 "nbformat_minor": 5
}
