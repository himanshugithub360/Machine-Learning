{
 "cells": [
  {
   "cell_type": "markdown",
   "id": "0cd72b2b",
   "metadata": {},
   "source": [
    "df.shape ----> it used for finding the no. of rows and columns\n",
    "\n",
    "Use .sum() → when you want only the count of matches.\n",
    "\n",
    "Use .value_counts() → when you want both matches and non-matches.\n",
    "\n",
    "Avoid using .count() for conditions — it won’t give you the match count.\n",
    "\n",
    "np.zeros _like(no. of zero) --> for ploting the zeros in the axis.\n",
    "\n",
    ".add_legend() ----->Adds a legend showing which color corresponds to which species.\n",
    "\n",
    "Dataset.columns = df.feature_names----> for providing the names to the columns\n"
   ]
  },
  {
   "cell_type": "markdown",
   "id": "49dc8e93",
   "metadata": {},
   "source": [
    "df.isnull().mean()*100  ------> for finding the percentage of null values in each columns"
   ]
  },
  {
   "cell_type": "markdown",
   "id": "f1d0cad0",
   "metadata": {},
   "source": []
  }
 ],
 "metadata": {
  "language_info": {
   "name": "python"
  }
 },
 "nbformat": 4,
 "nbformat_minor": 5
}
