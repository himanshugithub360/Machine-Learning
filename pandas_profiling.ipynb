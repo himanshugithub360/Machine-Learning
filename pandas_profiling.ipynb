{
 "cells": [
  {
   "cell_type": "markdown",
   "id": "0464c89c",
   "metadata": {},
   "source": [
    "## Perform EDA in the Best possible way using Pandas Profiling "
   ]
  },
  {
   "cell_type": "code",
   "execution_count": null,
   "id": "23988dec",
   "metadata": {},
   "outputs": [],
   "source": []
  }
 ],
 "metadata": {
  "language_info": {
   "name": "python"
  }
 },
 "nbformat": 4,
 "nbformat_minor": 5
}
