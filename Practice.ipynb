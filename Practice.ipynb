{
 "cells": [
  {
   "cell_type": "markdown",
   "id": "edf103f4",
   "metadata": {},
   "source": [
    "# for heading\n",
    "## for small heading\n",
    "### Shortcut\n",
    "---\n",
    "- ctrl + enter for run and in new cell\n",
    "- shift + enter for run and in same line\n",
    "--- for the line\n",
    "- esc + A for insert above cell \n",
    "- esc + B for insert below cell \n",
    "- esc + up/down arrow key to move in different cells\n",
    "- esc + M for markdown\n",
    "- esc + y for code\n",
    "- in esc mode, press dd for delete the cell\n"
   ]
  },
  {
   "cell_type": "code",
   "execution_count": 21,
   "id": "802553ef",
   "metadata": {},
   "outputs": [
    {
     "name": "stdout",
     "output_type": "stream",
     "text": [
      "HI\n",
      "My name is Himanshu\n",
      "My name is hello\n"
     ]
    }
   ],
   "source": [
    "print(\"HI\")\n",
    "print(\"My name is {}\".format(\"Himanshu\"))\n",
    "name = \"hello\"\n",
    "print(f\"My name is {name}\")"
   ]
  },
  {
   "cell_type": "code",
   "execution_count": null,
   "id": "c4037e55",
   "metadata": {},
   "outputs": [
    {
     "name": "stdout",
     "output_type": "stream",
     "text": [
      "[2, 23, 43, 'dis', 'dsd', 'sd']\n",
      "6\n"
     ]
    },
    {
     "data": {
      "text/plain": [
       "list"
      ]
     },
     "execution_count": 5,
     "metadata": {},
     "output_type": "execute_result"
    }
   ],
   "source": [
    "str = [2,23,43,\"dis\", \"dsd\",'sd']\n",
    "\n",
    "print(str)\n",
    "print(len(str))\n",
    "type(str)\n"
   ]
  },
  {
   "cell_type": "code",
   "execution_count": 31,
   "id": "2afdc97c",
   "metadata": {},
   "outputs": [
    {
     "name": "stdout",
     "output_type": "stream",
     "text": [
      "[2, 23, 43, 'dis', 'dsd', 'sd', [23, 'dsdjnf'], [23, 'dsdjnf']]\n"
     ]
    }
   ],
   "source": [
    "str.append([23,'dsdjnf'])\n",
    "print(str)"
   ]
  },
  {
   "cell_type": "code",
   "execution_count": 34,
   "id": "ee9f94bb",
   "metadata": {},
   "outputs": [
    {
     "data": {
      "text/plain": [
       "[23, 'dsdjnf']"
      ]
     },
     "execution_count": 34,
     "metadata": {},
     "output_type": "execute_result"
    }
   ],
   "source": [
    "str[6]"
   ]
  },
  {
   "cell_type": "code",
   "execution_count": null,
   "id": "44331302",
   "metadata": {},
   "outputs": [],
   "source": []
  },
  {
   "cell_type": "code",
   "execution_count": null,
   "id": "ba370c69",
   "metadata": {},
   "outputs": [],
   "source": []
  },
  {
   "cell_type": "code",
   "execution_count": null,
   "id": "b6b6d1da",
   "metadata": {},
   "outputs": [],
   "source": []
  },
  {
   "cell_type": "code",
   "execution_count": null,
   "id": "c81f0fe9",
   "metadata": {},
   "outputs": [],
   "source": []
  },
  {
   "cell_type": "code",
   "execution_count": null,
   "id": "0d80a3dd",
   "metadata": {},
   "outputs": [],
   "source": []
  },
  {
   "cell_type": "code",
   "execution_count": null,
   "id": "b0d1e282",
   "metadata": {},
   "outputs": [],
   "source": []
  },
  {
   "cell_type": "code",
   "execution_count": null,
   "id": "4829e22c-d7f9-4f05-8c32-7cada1ad7826",
   "metadata": {},
   "outputs": [],
   "source": []
  }
 ],
 "metadata": {
  "kernelspec": {
   "display_name": ".venv (3.13.5)",
   "language": "python",
   "name": "python3"
  },
  "language_info": {
   "codemirror_mode": {
    "name": "ipython",
    "version": 3
   },
   "file_extension": ".py",
   "mimetype": "text/x-python",
   "name": "python",
   "nbconvert_exporter": "python",
   "pygments_lexer": "ipython3",
   "version": "3.13.5"
  }
 },
 "nbformat": 4,
 "nbformat_minor": 5
}
