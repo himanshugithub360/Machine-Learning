{
 "cells": [
  {
   "cell_type": "markdown",
   "id": "0bcb724a",
   "metadata": {},
   "source": [
    "## Postional and Key Argument in Python"
   ]
  },
  {
   "cell_type": "code",
   "execution_count": 2,
   "id": "61f488f6",
   "metadata": {},
   "outputs": [],
   "source": [
    "def hello(*args, **Kargs):\n",
    "    print(args)\n",
    "    print(Kargs)"
   ]
  },
  {
   "cell_type": "code",
   "execution_count": 4,
   "id": "46134800",
   "metadata": {},
   "outputs": [
    {
     "name": "stdout",
     "output_type": "stream",
     "text": [
      "('Himanshu', 'Kumar')\n",
      "{'age': 23, 'dob': 1990}\n"
     ]
    }
   ],
   "source": [
    "hello(\"Himanshu\",\"Kumar\",age = 23,dob=2001)"
   ]
  },
  {
   "cell_type": "code",
   "execution_count": 7,
   "id": "a4c6857b",
   "metadata": {},
   "outputs": [],
   "source": [
    "list = [\"Himanshu\",\"Kumar\"]\n",
    "dict_args = {'age': 23,'dob':2001}"
   ]
  },
  {
   "cell_type": "code",
   "execution_count": 9,
   "id": "9503e0ce",
   "metadata": {},
   "outputs": [
    {
     "name": "stdout",
     "output_type": "stream",
     "text": [
      "('Himanshu', 'Kumar')\n",
      "{'age': 23, 'dob': 2001}\n"
     ]
    }
   ],
   "source": [
    "hello(*list,**dict_args)"
   ]
  },
  {
   "cell_type": "code",
   "execution_count": 10,
   "id": "bcfdf3bb",
   "metadata": {},
   "outputs": [],
   "source": [
    "lst = [23,43,12,44,56,67,88]"
   ]
  },
  {
   "cell_type": "code",
   "execution_count": 12,
   "id": "3325f085",
   "metadata": {},
   "outputs": [],
   "source": [
    "def odd_even_sum(name):\n",
    "    even_sum=0\n",
    "    odd_sum = 0\n",
    "    for i in name:\n",
    "        if i%2==0:\n",
    "            even_sum=even_sum+i\n",
    "        else:\n",
    "            odd_sum = odd_sum+i\n",
    "    return even_sum,odd_sum\n"
   ]
  },
  {
   "cell_type": "code",
   "execution_count": 13,
   "id": "57d40059",
   "metadata": {},
   "outputs": [
    {
     "data": {
      "text/plain": [
       "(200, 133)"
      ]
     },
     "execution_count": 13,
     "metadata": {},
     "output_type": "execute_result"
    }
   ],
   "source": [
    "odd_even_sum(lst)"
   ]
  }
 ],
 "metadata": {
  "kernelspec": {
   "display_name": ".venv (3.13.5)",
   "language": "python",
   "name": "python3"
  },
  "language_info": {
   "codemirror_mode": {
    "name": "ipython",
    "version": 3
   },
   "file_extension": ".py",
   "mimetype": "text/x-python",
   "name": "python",
   "nbconvert_exporter": "python",
   "pygments_lexer": "ipython3",
   "version": "3.13.5"
  }
 },
 "nbformat": 4,
 "nbformat_minor": 5
}
