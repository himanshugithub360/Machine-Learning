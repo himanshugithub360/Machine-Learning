{
 "cells": [
  {
   "cell_type": "code",
   "execution_count": 3,
   "id": "5b3be1ed",
   "metadata": {},
   "outputs": [],
   "source": [
    "class Car:\n",
    "    def __init__(self,window,door,enginetype):\n",
    "        self.windows = window\n",
    "        self.doors = door\n",
    "        self.enginetypes = enginetype\n",
    "    \n",
    "    def selfdriving(self):\n",
    "        return f\"This is a {self.enginetypes} car\"\n",
    "    \n",
    "    \n",
    "\n",
    "        "
   ]
  },
  {
   "cell_type": "code",
   "execution_count": 18,
   "id": "021e8a1f",
   "metadata": {},
   "outputs": [],
   "source": [
    "car1 = Car(2,4,\"Himanshu\")\n"
   ]
  },
  {
   "cell_type": "code",
   "execution_count": 19,
   "id": "509e9d20",
   "metadata": {},
   "outputs": [],
   "source": [
    "car2 = Car(2,4,4)"
   ]
  },
  {
   "cell_type": "code",
   "execution_count": 20,
   "id": "61e80383",
   "metadata": {},
   "outputs": [
    {
     "data": {
      "text/plain": [
       "'This is a 4 car'"
      ]
     },
     "execution_count": 20,
     "metadata": {},
     "output_type": "execute_result"
    }
   ],
   "source": [
    "car2.selfdriving()"
   ]
  },
  {
   "cell_type": "code",
   "execution_count": 14,
   "id": "2e5c3e1f",
   "metadata": {},
   "outputs": [
    {
     "name": "stdout",
     "output_type": "stream",
     "text": [
      "2\n"
     ]
    }
   ],
   "source": [
    "print(car1.windows)"
   ]
  },
  {
   "cell_type": "code",
   "execution_count": 17,
   "id": "b0ac0199",
   "metadata": {},
   "outputs": [
    {
     "data": {
      "text/plain": [
       "'This is a Himanshu car'"
      ]
     },
     "execution_count": 17,
     "metadata": {},
     "output_type": "execute_result"
    }
   ],
   "source": [
    "car1.selfdriving()"
   ]
  }
 ],
 "metadata": {
  "kernelspec": {
   "display_name": ".venv (3.13.5)",
   "language": "python",
   "name": "python3"
  },
  "language_info": {
   "codemirror_mode": {
    "name": "ipython",
    "version": 3
   },
   "file_extension": ".py",
   "mimetype": "text/x-python",
   "name": "python",
   "nbconvert_exporter": "python",
   "pygments_lexer": "ipython3",
   "version": "3.13.5"
  }
 },
 "nbformat": 4,
 "nbformat_minor": 5
}
