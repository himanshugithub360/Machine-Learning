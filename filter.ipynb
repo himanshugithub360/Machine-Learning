{
 "cells": [
  {
   "cell_type": "code",
   "execution_count": 1,
   "id": "83569ae5",
   "metadata": {},
   "outputs": [],
   "source": [
    "def even(num):\n",
    "    if num%2==0:\n",
    "        return True"
   ]
  },
  {
   "cell_type": "code",
   "execution_count": 2,
   "id": "c5807115",
   "metadata": {},
   "outputs": [],
   "source": [
    "lst = [1,2,3,4,5,6,7,8,9,24,73,35,34]\n"
   ]
  },
  {
   "cell_type": "code",
   "execution_count": 4,
   "id": "3a5c0c3e",
   "metadata": {},
   "outputs": [
    {
     "data": {
      "text/plain": [
       "[2, 4, 6, 8, 24, 34]"
      ]
     },
     "execution_count": 4,
     "metadata": {},
     "output_type": "execute_result"
    }
   ],
   "source": [
    "list(filter(even,lst))"
   ]
  },
  {
   "cell_type": "code",
   "execution_count": 5,
   "id": "7714b76b",
   "metadata": {},
   "outputs": [
    {
     "data": {
      "text/plain": [
       "[2, 4, 6, 8, 24, 34]"
      ]
     },
     "execution_count": 5,
     "metadata": {},
     "output_type": "execute_result"
    }
   ],
   "source": [
    "list(filter(lambda num:num%2==0,lst))"
   ]
  },
  {
   "cell_type": "code",
   "execution_count": 6,
   "id": "b7cd14cd",
   "metadata": {},
   "outputs": [],
   "source": [
    "# List Comprehension"
   ]
  },
  {
   "cell_type": "code",
   "execution_count": 7,
   "id": "648b2a8e",
   "metadata": {},
   "outputs": [],
   "source": [
    "lst =[1,2,3,4,5,67,7]"
   ]
  },
  {
   "cell_type": "code",
   "execution_count": 8,
   "id": "d032c136",
   "metadata": {},
   "outputs": [],
   "source": [
    "lst1 = [i*i for i in lst if i%2==0]"
   ]
  },
  {
   "cell_type": "code",
   "execution_count": 9,
   "id": "9c375f28",
   "metadata": {},
   "outputs": [
    {
     "name": "stdout",
     "output_type": "stream",
     "text": [
      "[4, 16]\n"
     ]
    }
   ],
   "source": [
    "print(lst1)"
   ]
  }
 ],
 "metadata": {
  "kernelspec": {
   "display_name": ".venv (3.13.5)",
   "language": "python",
   "name": "python3"
  },
  "language_info": {
   "codemirror_mode": {
    "name": "ipython",
    "version": 3
   },
   "file_extension": ".py",
   "mimetype": "text/x-python",
   "name": "python",
   "nbconvert_exporter": "python",
   "pygments_lexer": "ipython3",
   "version": "3.13.5"
  }
 },
 "nbformat": 4,
 "nbformat_minor": 5
}
