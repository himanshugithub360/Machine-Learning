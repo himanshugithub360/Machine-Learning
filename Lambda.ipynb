{
 "cells": [
  {
   "cell_type": "markdown",
   "id": "3937d20d",
   "metadata": {},
   "source": [
    "### Lambda Function\n",
    "A function with no name. It is used when single expression in return type"
   ]
  },
  {
   "cell_type": "code",
   "execution_count": 1,
   "id": "7f64c339",
   "metadata": {},
   "outputs": [],
   "source": [
    "def add(a,b):\n",
    "    return a+b"
   ]
  },
  {
   "cell_type": "code",
   "execution_count": 2,
   "id": "cb9cd875",
   "metadata": {},
   "outputs": [
    {
     "data": {
      "text/plain": [
       "6"
      ]
     },
     "execution_count": 2,
     "metadata": {},
     "output_type": "execute_result"
    }
   ],
   "source": [
    "add(2,4)"
   ]
  },
  {
   "cell_type": "code",
   "execution_count": 3,
   "id": "77c0d875",
   "metadata": {},
   "outputs": [],
   "source": [
    "addition = lambda a,b :a+b"
   ]
  },
  {
   "cell_type": "code",
   "execution_count": 4,
   "id": "c9173dc4",
   "metadata": {},
   "outputs": [
    {
     "data": {
      "text/plain": [
       "7"
      ]
     },
     "execution_count": 4,
     "metadata": {},
     "output_type": "execute_result"
    }
   ],
   "source": [
    "addition(2,5)"
   ]
  },
  {
   "cell_type": "code",
   "execution_count": 5,
   "id": "9a34b756",
   "metadata": {},
   "outputs": [],
   "source": [
    "def even(num):\n",
    "    if num%2==0:\n",
    "        return True"
   ]
  },
  {
   "cell_type": "code",
   "execution_count": 7,
   "id": "3fd52080",
   "metadata": {},
   "outputs": [
    {
     "data": {
      "text/plain": [
       "True"
      ]
     },
     "execution_count": 7,
     "metadata": {},
     "output_type": "execute_result"
    }
   ],
   "source": [
    "even(22)"
   ]
  },
  {
   "cell_type": "code",
   "execution_count": 8,
   "id": "58159613",
   "metadata": {},
   "outputs": [],
   "source": [
    "even_number = lambda a:a%2==0"
   ]
  },
  {
   "cell_type": "code",
   "execution_count": 9,
   "id": "a00490a0",
   "metadata": {},
   "outputs": [
    {
     "data": {
      "text/plain": [
       "True"
      ]
     },
     "execution_count": 9,
     "metadata": {},
     "output_type": "execute_result"
    }
   ],
   "source": [
    "even_number(34)"
   ]
  },
  {
   "cell_type": "code",
   "execution_count": null,
   "id": "617f1a88",
   "metadata": {},
   "outputs": [],
   "source": []
  }
 ],
 "metadata": {
  "kernelspec": {
   "display_name": ".venv (3.13.5)",
   "language": "python",
   "name": "python3"
  },
  "language_info": {
   "codemirror_mode": {
    "name": "ipython",
    "version": 3
   },
   "file_extension": ".py",
   "mimetype": "text/x-python",
   "name": "python",
   "nbconvert_exporter": "python",
   "pygments_lexer": "ipython3",
   "version": "3.13.5"
  }
 },
 "nbformat": 4,
 "nbformat_minor": 5
}
