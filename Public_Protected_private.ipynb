{
 "cells": [
  {
   "cell_type": "markdown",
   "id": "3ed50ba6",
   "metadata": {},
   "source": [
    "## All the Class Varibles are Public"
   ]
  },
  {
   "cell_type": "code",
   "execution_count": 27,
   "id": "e09e0f45",
   "metadata": {},
   "outputs": [],
   "source": [
    "class Car():\n",
    "    def __init__(self,window,door,enginetype):\n",
    "        self.windows = window\n",
    "        self.doors = door\n",
    "        self.enginetype = enginetype\n",
    "        \n"
   ]
  },
  {
   "cell_type": "code",
   "execution_count": 28,
   "id": "b07426f6",
   "metadata": {},
   "outputs": [
    {
     "data": {
      "text/plain": [
       "<__main__.Car at 0x1e9d958e900>"
      ]
     },
     "execution_count": 28,
     "metadata": {},
     "output_type": "execute_result"
    }
   ],
   "source": [
    "audi = Car(4,5,\"Petrol\")\n",
    "audi"
   ]
  },
  {
   "cell_type": "code",
   "execution_count": 30,
   "id": "a9164d6e",
   "metadata": {},
   "outputs": [
    {
     "data": {
      "text/plain": [
       "4"
      ]
     },
     "execution_count": 30,
     "metadata": {},
     "output_type": "execute_result"
    }
   ],
   "source": [
    "audi.windows"
   ]
  },
  {
   "cell_type": "code",
   "execution_count": 24,
   "id": "45ff553a",
   "metadata": {},
   "outputs": [
    {
     "data": {
      "text/plain": [
       "['__class__',\n",
       " '__delattr__',\n",
       " '__dict__',\n",
       " '__dir__',\n",
       " '__doc__',\n",
       " '__eq__',\n",
       " '__firstlineno__',\n",
       " '__format__',\n",
       " '__ge__',\n",
       " '__getattribute__',\n",
       " '__getstate__',\n",
       " '__gt__',\n",
       " '__hash__',\n",
       " '__init__',\n",
       " '__init_subclass__',\n",
       " '__le__',\n",
       " '__lt__',\n",
       " '__module__',\n",
       " '__ne__',\n",
       " '__new__',\n",
       " '__reduce__',\n",
       " '__reduce_ex__',\n",
       " '__repr__',\n",
       " '__setattr__',\n",
       " '__sizeof__',\n",
       " '__static_attributes__',\n",
       " '__str__',\n",
       " '__subclasshook__',\n",
       " '__weakref__',\n",
       " '_doors',\n",
       " '_enginetype',\n",
       " '_windows']"
      ]
     },
     "execution_count": 24,
     "metadata": {},
     "output_type": "execute_result"
    }
   ],
   "source": [
    "dir(audi)"
   ]
  },
  {
   "cell_type": "markdown",
   "id": "1051239b",
   "metadata": {},
   "source": [
    "## All the varibles are Protected\n",
    "- add a single underScore before the attribute\n",
    "- for the overwrite the values, it is possible through subclass"
   ]
  },
  {
   "cell_type": "code",
   "execution_count": 44,
   "id": "5a7d8318",
   "metadata": {},
   "outputs": [],
   "source": [
    "class Car:\n",
    "    def __init__(self,window,door,enginetype):\n",
    "        self._windows = window\n",
    "        self._doors = door\n",
    "        self._enginetype = enginetype\n",
    "        \n"
   ]
  },
  {
   "cell_type": "code",
   "execution_count": 57,
   "id": "2c6d576d",
   "metadata": {},
   "outputs": [
    {
     "data": {
      "text/plain": [
       "<__main__.Car at 0x1e9d958e7b0>"
      ]
     },
     "execution_count": 57,
     "metadata": {},
     "output_type": "execute_result"
    }
   ],
   "source": [
    "audi = Car(5,2,\"Petrol\")\n",
    "audi"
   ]
  },
  {
   "cell_type": "code",
   "execution_count": 58,
   "id": "d98bb3f5",
   "metadata": {},
   "outputs": [
    {
     "data": {
      "text/plain": [
       "['__class__',\n",
       " '__delattr__',\n",
       " '__dict__',\n",
       " '__dir__',\n",
       " '__doc__',\n",
       " '__eq__',\n",
       " '__firstlineno__',\n",
       " '__format__',\n",
       " '__ge__',\n",
       " '__getattribute__',\n",
       " '__getstate__',\n",
       " '__gt__',\n",
       " '__hash__',\n",
       " '__init__',\n",
       " '__init_subclass__',\n",
       " '__le__',\n",
       " '__lt__',\n",
       " '__module__',\n",
       " '__ne__',\n",
       " '__new__',\n",
       " '__reduce__',\n",
       " '__reduce_ex__',\n",
       " '__repr__',\n",
       " '__setattr__',\n",
       " '__sizeof__',\n",
       " '__static_attributes__',\n",
       " '__str__',\n",
       " '__subclasshook__',\n",
       " '__weakref__',\n",
       " '_doors',\n",
       " '_enginetype',\n",
       " '_windows']"
      ]
     },
     "execution_count": 58,
     "metadata": {},
     "output_type": "execute_result"
    }
   ],
   "source": [
    "dir(audi)"
   ]
  },
  {
   "cell_type": "code",
   "execution_count": 45,
   "id": "5b5868c8",
   "metadata": {},
   "outputs": [],
   "source": [
    "class truck(Car):\n",
    "    def __init__(self,window,door,enginetype,sound):\n",
    "        super().__init__(window,door,enginetype)\n",
    "        self._sounds= sound"
   ]
  },
  {
   "cell_type": "code",
   "execution_count": 48,
   "id": "7ea6660b",
   "metadata": {},
   "outputs": [],
   "source": [
    "benz = truck(1,3,\"disel\",\"yes\")\n"
   ]
  },
  {
   "cell_type": "code",
   "execution_count": 53,
   "id": "abefee02",
   "metadata": {},
   "outputs": [],
   "source": [
    "benz._windows = 10\n"
   ]
  },
  {
   "cell_type": "code",
   "execution_count": 51,
   "id": "76bcfe64",
   "metadata": {},
   "outputs": [
    {
     "data": {
      "text/plain": [
       "10"
      ]
     },
     "execution_count": 51,
     "metadata": {},
     "output_type": "execute_result"
    }
   ],
   "source": [
    "benz._windows\n",
    "\n"
   ]
  },
  {
   "cell_type": "markdown",
   "id": "d4a78353",
   "metadata": {},
   "source": [
    "## All the varibles are Private\n",
    "- add a double underScore before the attribute\n"
   ]
  },
  {
   "cell_type": "code",
   "execution_count": 60,
   "id": "33b73974",
   "metadata": {},
   "outputs": [],
   "source": [
    "class Car:\n",
    "    def __init__(self,window,door,enginetype):\n",
    "        self.__windows = window\n",
    "        self.__doors = door\n",
    "        self.__enginetype = enginetype\n",
    "        \n"
   ]
  },
  {
   "cell_type": "code",
   "execution_count": 62,
   "id": "2a0c94dc",
   "metadata": {},
   "outputs": [],
   "source": [
    "mercedes = Car(2,1,\"petrol\")"
   ]
  },
  {
   "cell_type": "code",
   "execution_count": 63,
   "id": "9b7352a0",
   "metadata": {},
   "outputs": [
    {
     "data": {
      "text/plain": [
       "['_Car__doors',\n",
       " '_Car__enginetype',\n",
       " '_Car__windows',\n",
       " '__class__',\n",
       " '__delattr__',\n",
       " '__dict__',\n",
       " '__dir__',\n",
       " '__doc__',\n",
       " '__eq__',\n",
       " '__firstlineno__',\n",
       " '__format__',\n",
       " '__ge__',\n",
       " '__getattribute__',\n",
       " '__getstate__',\n",
       " '__gt__',\n",
       " '__hash__',\n",
       " '__init__',\n",
       " '__init_subclass__',\n",
       " '__le__',\n",
       " '__lt__',\n",
       " '__module__',\n",
       " '__ne__',\n",
       " '__new__',\n",
       " '__reduce__',\n",
       " '__reduce_ex__',\n",
       " '__repr__',\n",
       " '__setattr__',\n",
       " '__sizeof__',\n",
       " '__static_attributes__',\n",
       " '__str__',\n",
       " '__subclasshook__',\n",
       " '__weakref__']"
      ]
     },
     "execution_count": 63,
     "metadata": {},
     "output_type": "execute_result"
    }
   ],
   "source": [
    "dir(mercedes)"
   ]
  },
  {
   "cell_type": "code",
   "execution_count": null,
   "id": "e48d7afe",
   "metadata": {},
   "outputs": [],
   "source": []
  }
 ],
 "metadata": {
  "kernelspec": {
   "display_name": ".venv (3.13.5)",
   "language": "python",
   "name": "python3"
  },
  "language_info": {
   "codemirror_mode": {
    "name": "ipython",
    "version": 3
   },
   "file_extension": ".py",
   "mimetype": "text/x-python",
   "name": "python",
   "nbconvert_exporter": "python",
   "pygments_lexer": "ipython3",
   "version": "3.13.5"
  }
 },
 "nbformat": 4,
 "nbformat_minor": 5
}
