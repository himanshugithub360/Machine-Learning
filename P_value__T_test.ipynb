{
 "cells": [
  {
   "cell_type": "markdown",
   "id": "9bd139f8",
   "metadata": {},
   "source": [
    "## T test"
   ]
  },
  {
   "cell_type": "markdown",
   "id": "c59a263d",
   "metadata": {},
   "source": [
    "A T-test is a type of inferential statistic which is used to dertermine if there is a significant difference betwwen the means of two groups which may be be related in certain features.\n",
    "\n",
    "T-test has 2 types : 1. One sampled T-test\n",
    "                     2. Two sampled T-test"
   ]
  },
  {
   "cell_type": "markdown",
   "id": "7890417b",
   "metadata": {},
   "source": [
    "## One sample T-test"
   ]
  },
  {
   "cell_type": "code",
   "execution_count": 1,
   "id": "5a52a2c8",
   "metadata": {},
   "outputs": [],
   "source": [
    "ages = [10,20,32,43,32,54,65,33,23,26,43,21,13,2,42,6,26,28,29,4,32,3,14,26,27,17,19,15,3,53,63,8,4,86,0,70,65,43,32,12]"
   ]
  },
  {
   "cell_type": "code",
   "execution_count": 4,
   "id": "41fbdc4e",
   "metadata": {},
   "outputs": [
    {
     "data": {
      "text/plain": [
       "40"
      ]
     },
     "execution_count": 4,
     "metadata": {},
     "output_type": "execute_result"
    }
   ],
   "source": [
    "len(ages)"
   ]
  },
  {
   "cell_type": "code",
   "execution_count": 5,
   "id": "81c3c607",
   "metadata": {},
   "outputs": [
    {
     "name": "stdout",
     "output_type": "stream",
     "text": [
      "28.6\n"
     ]
    }
   ],
   "source": [
    "import numpy as np\n",
    "ages_mean = np.mean(ages)\n",
    "print(ages_mean)"
   ]
  },
  {
   "cell_type": "code",
   "execution_count": 7,
   "id": "f7726612",
   "metadata": {},
   "outputs": [],
   "source": [
    "samples_size = 10\n",
    "ages_sample = np.random.choice(ages,samples_size)"
   ]
  },
  {
   "cell_type": "code",
   "execution_count": 8,
   "id": "4e715670",
   "metadata": {},
   "outputs": [
    {
     "data": {
      "text/plain": [
       "array([20, 20,  6, 63, 65, 86, 54, 27, 32, 43])"
      ]
     },
     "execution_count": 8,
     "metadata": {},
     "output_type": "execute_result"
    }
   ],
   "source": [
    "ages_sample"
   ]
  },
  {
   "cell_type": "code",
   "execution_count": 10,
   "id": "e188a6ac",
   "metadata": {},
   "outputs": [],
   "source": [
    "from scipy.stats import ttest_1samp\n",
    "\n",
    "ttest,p_value = ttest_1samp(ages_sample,28)"
   ]
  },
  {
   "cell_type": "code",
   "execution_count": 12,
   "id": "914d144a",
   "metadata": {},
   "outputs": [
    {
     "name": "stdout",
     "output_type": "stream",
     "text": [
      "0.11987694797075388\n"
     ]
    }
   ],
   "source": [
    "print(p_value)"
   ]
  },
  {
   "cell_type": "code",
   "execution_count": 15,
   "id": "2a1cd0fa",
   "metadata": {},
   "outputs": [
    {
     "name": "stdout",
     "output_type": "stream",
     "text": [
      "we are accepting null hypothesis\n"
     ]
    }
   ],
   "source": [
    "if p_value<0.05:\n",
    "    print(\"we are rejecting the null hypothesis\")\n",
    "else:\n",
    "    print(\"we are accepting null hypothesis\")"
   ]
  },
  {
   "cell_type": "markdown",
   "id": "20067426",
   "metadata": {},
   "source": [
    "### Another examples with ages of students of school"
   ]
  },
  {
   "cell_type": "code",
   "execution_count": 23,
   "id": "28ba7c62",
   "metadata": {},
   "outputs": [],
   "source": [
    "import numpy as np\n",
    "import pandas as pd\n",
    "import scipy.stats as stats\n",
    "import math\n",
    "\n",
    "np.random.seed(6)\n",
    "school_ages = stats.poisson.rvs(loc=18, mu=35, size = 1500)\n",
    "class_ages = stats.poisson.rvs(loc=18, mu=30, size = 60)"
   ]
  },
  {
   "cell_type": "code",
   "execution_count": 19,
   "id": "b9378f82",
   "metadata": {},
   "outputs": [
    {
     "data": {
      "text/plain": [
       "np.float64(46.9)"
      ]
     },
     "execution_count": 19,
     "metadata": {},
     "output_type": "execute_result"
    }
   ],
   "source": [
    "class_ages.mean()"
   ]
  },
  {
   "cell_type": "code",
   "execution_count": 25,
   "id": "194d5e1a",
   "metadata": {},
   "outputs": [
    {
     "data": {
      "text/plain": [
       "array([52, 46, 40, 40, 47, 50, 51, 45, 44, 52, 46, 53, 43, 44, 51, 50, 54,\n",
       "       42, 54, 45, 61, 53, 49, 46, 47, 41, 45, 51, 43, 45, 48, 50, 40, 52,\n",
       "       44, 55, 54, 40, 45, 46, 54, 42, 46, 35, 51, 51, 46, 48, 47, 35, 52,\n",
       "       52, 39, 44, 48, 40, 42, 46, 47, 45])"
      ]
     },
     "execution_count": 25,
     "metadata": {},
     "output_type": "execute_result"
    }
   ],
   "source": [
    "class_ages"
   ]
  },
  {
   "cell_type": "code",
   "execution_count": 31,
   "id": "a60ba077",
   "metadata": {},
   "outputs": [],
   "source": [
    "ttest, p_value = stats.ttest_1samp(class_ages,school_ages.mean())"
   ]
  },
  {
   "cell_type": "code",
   "execution_count": 28,
   "id": "2dd3f835",
   "metadata": {},
   "outputs": [
    {
     "data": {
      "text/plain": [
       "np.float64(1.139027071016194e-13)"
      ]
     },
     "execution_count": 28,
     "metadata": {},
     "output_type": "execute_result"
    }
   ],
   "source": [
    "p_value"
   ]
  },
  {
   "cell_type": "code",
   "execution_count": 29,
   "id": "1db4f746",
   "metadata": {},
   "outputs": [
    {
     "data": {
      "text/plain": [
       "np.float64(53.303333333333335)"
      ]
     },
     "execution_count": 29,
     "metadata": {},
     "output_type": "execute_result"
    }
   ],
   "source": [
    "school_ages.mean()"
   ]
  },
  {
   "cell_type": "code",
   "execution_count": 30,
   "id": "6c5b31fc",
   "metadata": {},
   "outputs": [
    {
     "name": "stdout",
     "output_type": "stream",
     "text": [
      "we are rejecting the null hypothesis\n"
     ]
    }
   ],
   "source": [
    "if p_value<0.05:\n",
    "    print(\"we are rejecting the null hypothesis\")\n",
    "else:\n",
    "    print(\"we are accepting null hypothesis\")"
   ]
  },
  {
   "cell_type": "markdown",
   "id": "7577b5fc",
   "metadata": {},
   "source": [
    "### Two sample T-test with python"
   ]
  },
  {
   "cell_type": "markdown",
   "id": "0f3f1a38",
   "metadata": {},
   "source": [
    "The Independent samples t test or 2 sample t-test compares the means of two independent groups in order to determine whether there is statiscal evidence that the associated popular means are significantly different. The independent samples T test is a parametric test. This test is also known as independent t test"
   ]
  },
  {
   "cell_type": "code",
   "execution_count": 33,
   "id": "b88514d8",
   "metadata": {},
   "outputs": [
    {
     "data": {
      "text/plain": [
       "np.float64(50.63333333333333)"
      ]
     },
     "execution_count": 33,
     "metadata": {},
     "output_type": "execute_result"
    }
   ],
   "source": [
    "np.random.seed(12)\n",
    "ClassB_ages = stats.poisson.rvs(loc= 18,mu = 33,size = 60)\n",
    "ClassB_ages.mean()"
   ]
  },
  {
   "cell_type": "code",
   "execution_count": 41,
   "id": "55a462d9",
   "metadata": {},
   "outputs": [
    {
     "data": {
      "text/plain": [
       "array([44, 47, 60, 65, 47, 52, 56, 56, 44, 48, 50, 47, 55, 49, 50, 50, 50,\n",
       "       41, 53, 47, 39, 50, 52, 43, 53, 51, 59, 53, 51, 46, 41, 53, 63, 53,\n",
       "       48, 65, 63, 54, 49, 53, 48, 45, 49, 59, 50, 51, 56, 45, 56, 43, 43,\n",
       "       47, 54, 48, 45, 41, 60, 48, 51, 49])"
      ]
     },
     "execution_count": 41,
     "metadata": {},
     "output_type": "execute_result"
    }
   ],
   "source": [
    "ClassB_ages"
   ]
  },
  {
   "cell_type": "code",
   "execution_count": 42,
   "id": "d3baa2d9",
   "metadata": {},
   "outputs": [],
   "source": [
    "ttest,P_value = stats.ttest_ind(class_ages,ClassB_ages,equal_var = False)"
   ]
  },
  {
   "cell_type": "code",
   "execution_count": 39,
   "id": "7e40f759",
   "metadata": {},
   "outputs": [
    {
     "data": {
      "text/plain": [
       "np.float64(1.139027071016194e-13)"
      ]
     },
     "execution_count": 39,
     "metadata": {},
     "output_type": "execute_result"
    }
   ],
   "source": [
    "p_value"
   ]
  },
  {
   "cell_type": "code",
   "execution_count": 40,
   "id": "a70e92ff",
   "metadata": {},
   "outputs": [
    {
     "name": "stdout",
     "output_type": "stream",
     "text": [
      "we are rejecting the null hypothesis\n"
     ]
    }
   ],
   "source": [
    "if p_value<0.05:\n",
    "    print(\"we are rejecting the null hypothesis\")\n",
    "else:\n",
    "    print(\"we are accepting null hypothesis\")"
   ]
  },
  {
   "cell_type": "markdown",
   "id": "fd6b3f77",
   "metadata": {},
   "source": [
    "### Paired T-test with Python\n",
    "\n",
    "when you want to check how different samples from the same group are, you can go for a paired T-test"
   ]
  },
  {
   "cell_type": "code",
   "execution_count": 46,
   "id": "35e2e37d",
   "metadata": {},
   "outputs": [
    {
     "data": {
      "text/plain": [
       "18"
      ]
     },
     "execution_count": 46,
     "metadata": {},
     "output_type": "execute_result"
    }
   ],
   "source": [
    "weight1 = [25,30,43,12,45,32,54,6,5,86,64,13,4,7,88,44,32,12]\n",
    "len(weight1)"
   ]
  },
  {
   "cell_type": "code",
   "execution_count": 47,
   "id": "0b1bb10e",
   "metadata": {},
   "outputs": [],
   "source": [
    "weight2 = weight1 + stats.norm.rvs(scale = 5, loc = -1.25, size = 18)"
   ]
  },
  {
   "cell_type": "code",
   "execution_count": 48,
   "id": "9a8f3ed9",
   "metadata": {},
   "outputs": [
    {
     "data": {
      "text/plain": [
       "array([30.57926457, 34.91022437, 44.00444617,  7.54295091, 36.86201983,\n",
       "       35.57873174, 46.3299827 , -1.6228605 , 11.36420881, 92.05941216,\n",
       "       62.93827982, 10.519014  , -0.57148787,  7.50667769, 84.32984284,\n",
       "       35.1845637 , 26.93234756, 11.99601605])"
      ]
     },
     "execution_count": 48,
     "metadata": {},
     "output_type": "execute_result"
    }
   ],
   "source": [
    "weight2"
   ]
  },
  {
   "cell_type": "code",
   "execution_count": 49,
   "id": "0c157218",
   "metadata": {},
   "outputs": [],
   "source": [
    "weight_df = pd.DataFrame({\"Weight_10\": np.array(weight1),\n",
    "                          \"Weight_20\" : np.array(weight2),\n",
    "                          \"Weight_change\" : np.array(weight2) - np.array(weight1)})"
   ]
  },
  {
   "cell_type": "code",
   "execution_count": 50,
   "id": "949464ba",
   "metadata": {},
   "outputs": [
    {
     "data": {
      "text/html": [
       "<div>\n",
       "<style scoped>\n",
       "    .dataframe tbody tr th:only-of-type {\n",
       "        vertical-align: middle;\n",
       "    }\n",
       "\n",
       "    .dataframe tbody tr th {\n",
       "        vertical-align: top;\n",
       "    }\n",
       "\n",
       "    .dataframe thead th {\n",
       "        text-align: right;\n",
       "    }\n",
       "</style>\n",
       "<table border=\"1\" class=\"dataframe\">\n",
       "  <thead>\n",
       "    <tr style=\"text-align: right;\">\n",
       "      <th></th>\n",
       "      <th>Weight_10</th>\n",
       "      <th>Weight_20</th>\n",
       "      <th>Weight_change</th>\n",
       "    </tr>\n",
       "  </thead>\n",
       "  <tbody>\n",
       "    <tr>\n",
       "      <th>0</th>\n",
       "      <td>25</td>\n",
       "      <td>30.579265</td>\n",
       "      <td>5.579265</td>\n",
       "    </tr>\n",
       "    <tr>\n",
       "      <th>1</th>\n",
       "      <td>30</td>\n",
       "      <td>34.910224</td>\n",
       "      <td>4.910224</td>\n",
       "    </tr>\n",
       "    <tr>\n",
       "      <th>2</th>\n",
       "      <td>43</td>\n",
       "      <td>44.004446</td>\n",
       "      <td>1.004446</td>\n",
       "    </tr>\n",
       "    <tr>\n",
       "      <th>3</th>\n",
       "      <td>12</td>\n",
       "      <td>7.542951</td>\n",
       "      <td>-4.457049</td>\n",
       "    </tr>\n",
       "    <tr>\n",
       "      <th>4</th>\n",
       "      <td>45</td>\n",
       "      <td>36.862020</td>\n",
       "      <td>-8.137980</td>\n",
       "    </tr>\n",
       "    <tr>\n",
       "      <th>5</th>\n",
       "      <td>32</td>\n",
       "      <td>35.578732</td>\n",
       "      <td>3.578732</td>\n",
       "    </tr>\n",
       "    <tr>\n",
       "      <th>6</th>\n",
       "      <td>54</td>\n",
       "      <td>46.329983</td>\n",
       "      <td>-7.670017</td>\n",
       "    </tr>\n",
       "    <tr>\n",
       "      <th>7</th>\n",
       "      <td>6</td>\n",
       "      <td>-1.622861</td>\n",
       "      <td>-7.622861</td>\n",
       "    </tr>\n",
       "    <tr>\n",
       "      <th>8</th>\n",
       "      <td>5</td>\n",
       "      <td>11.364209</td>\n",
       "      <td>6.364209</td>\n",
       "    </tr>\n",
       "    <tr>\n",
       "      <th>9</th>\n",
       "      <td>86</td>\n",
       "      <td>92.059412</td>\n",
       "      <td>6.059412</td>\n",
       "    </tr>\n",
       "    <tr>\n",
       "      <th>10</th>\n",
       "      <td>64</td>\n",
       "      <td>62.938280</td>\n",
       "      <td>-1.061720</td>\n",
       "    </tr>\n",
       "    <tr>\n",
       "      <th>11</th>\n",
       "      <td>13</td>\n",
       "      <td>10.519014</td>\n",
       "      <td>-2.480986</td>\n",
       "    </tr>\n",
       "    <tr>\n",
       "      <th>12</th>\n",
       "      <td>4</td>\n",
       "      <td>-0.571488</td>\n",
       "      <td>-4.571488</td>\n",
       "    </tr>\n",
       "    <tr>\n",
       "      <th>13</th>\n",
       "      <td>7</td>\n",
       "      <td>7.506678</td>\n",
       "      <td>0.506678</td>\n",
       "    </tr>\n",
       "    <tr>\n",
       "      <th>14</th>\n",
       "      <td>88</td>\n",
       "      <td>84.329843</td>\n",
       "      <td>-3.670157</td>\n",
       "    </tr>\n",
       "    <tr>\n",
       "      <th>15</th>\n",
       "      <td>44</td>\n",
       "      <td>35.184564</td>\n",
       "      <td>-8.815436</td>\n",
       "    </tr>\n",
       "    <tr>\n",
       "      <th>16</th>\n",
       "      <td>32</td>\n",
       "      <td>26.932348</td>\n",
       "      <td>-5.067652</td>\n",
       "    </tr>\n",
       "    <tr>\n",
       "      <th>17</th>\n",
       "      <td>12</td>\n",
       "      <td>11.996016</td>\n",
       "      <td>-0.003984</td>\n",
       "    </tr>\n",
       "  </tbody>\n",
       "</table>\n",
       "</div>"
      ],
      "text/plain": [
       "    Weight_10  Weight_20  Weight_change\n",
       "0          25  30.579265       5.579265\n",
       "1          30  34.910224       4.910224\n",
       "2          43  44.004446       1.004446\n",
       "3          12   7.542951      -4.457049\n",
       "4          45  36.862020      -8.137980\n",
       "5          32  35.578732       3.578732\n",
       "6          54  46.329983      -7.670017\n",
       "7           6  -1.622861      -7.622861\n",
       "8           5  11.364209       6.364209\n",
       "9          86  92.059412       6.059412\n",
       "10         64  62.938280      -1.061720\n",
       "11         13  10.519014      -2.480986\n",
       "12          4  -0.571488      -4.571488\n",
       "13          7   7.506678       0.506678\n",
       "14         88  84.329843      -3.670157\n",
       "15         44  35.184564      -8.815436\n",
       "16         32  26.932348      -5.067652\n",
       "17         12  11.996016      -0.003984"
      ]
     },
     "execution_count": 50,
     "metadata": {},
     "output_type": "execute_result"
    }
   ],
   "source": [
    "weight_df"
   ]
  },
  {
   "cell_type": "code",
   "execution_count": 51,
   "id": "7b2b6b01",
   "metadata": {},
   "outputs": [],
   "source": [
    "ttest, P_value = stats.ttest_rel(weight1, weight2)"
   ]
  },
  {
   "cell_type": "code",
   "execution_count": 53,
   "id": "5d57ab38",
   "metadata": {},
   "outputs": [
    {
     "data": {
      "text/plain": [
       "np.float64(1.139027071016194e-13)"
      ]
     },
     "execution_count": 53,
     "metadata": {},
     "output_type": "execute_result"
    }
   ],
   "source": [
    "p_value"
   ]
  },
  {
   "cell_type": "code",
   "execution_count": 54,
   "id": "84478667",
   "metadata": {},
   "outputs": [
    {
     "name": "stdout",
     "output_type": "stream",
     "text": [
      "we are rejecting the null hypothesis\n"
     ]
    }
   ],
   "source": [
    "if p_value<0.05:\n",
    "    print(\"we are rejecting the null hypothesis\")\n",
    "else:\n",
    "    print(\"we are accepting null hypothesis\")"
   ]
  },
  {
   "cell_type": "code",
   "execution_count": null,
   "id": "d89210a0",
   "metadata": {},
   "outputs": [],
   "source": [
    " "
   ]
  }
 ],
 "metadata": {
  "kernelspec": {
   "display_name": ".venv (3.13.5)",
   "language": "python",
   "name": "python3"
  },
  "language_info": {
   "codemirror_mode": {
    "name": "ipython",
    "version": 3
   },
   "file_extension": ".py",
   "mimetype": "text/x-python",
   "name": "python",
   "nbconvert_exporter": "python",
   "pygments_lexer": "ipython3",
   "version": "3.13.5"
  }
 },
 "nbformat": 4,
 "nbformat_minor": 5
}
