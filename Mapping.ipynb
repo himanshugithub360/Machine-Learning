{
 "cells": [
  {
   "cell_type": "code",
   "execution_count": 1,
   "id": "c0095b67",
   "metadata": {},
   "outputs": [],
   "source": [
    "def even_or_odd(num):\n",
    "    if num%2 ==0:\n",
    "        return \"The number {} is Even\".format(num)\n",
    "    else:\n",
    "        return \"The Number {} is Odd\".format(num)"
   ]
  },
  {
   "cell_type": "code",
   "execution_count": 2,
   "id": "6e11ce3a",
   "metadata": {},
   "outputs": [
    {
     "data": {
      "text/plain": [
       "'The Number 23 is Odd'"
      ]
     },
     "execution_count": 2,
     "metadata": {},
     "output_type": "execute_result"
    }
   ],
   "source": [
    "even_or_odd(23)"
   ]
  },
  {
   "cell_type": "code",
   "execution_count": 3,
   "id": "1240fd48",
   "metadata": {},
   "outputs": [],
   "source": [
    "lst = [23,34,354,54,56,12,14,67,89,54,86322,21]"
   ]
  },
  {
   "cell_type": "code",
   "execution_count": 5,
   "id": "946b6d2a",
   "metadata": {},
   "outputs": [
    {
     "data": {
      "text/plain": [
       "['The Number 23 is Odd',\n",
       " 'The number 34 is Even',\n",
       " 'The number 354 is Even',\n",
       " 'The number 54 is Even',\n",
       " 'The number 56 is Even',\n",
       " 'The number 12 is Even',\n",
       " 'The number 14 is Even',\n",
       " 'The Number 67 is Odd',\n",
       " 'The Number 89 is Odd',\n",
       " 'The number 54 is Even',\n",
       " 'The number 86322 is Even',\n",
       " 'The Number 21 is Odd']"
      ]
     },
     "execution_count": 5,
     "metadata": {},
     "output_type": "execute_result"
    }
   ],
   "source": [
    "list(map(even_or_odd,lst))"
   ]
  }
 ],
 "metadata": {
  "kernelspec": {
   "display_name": ".venv (3.13.5)",
   "language": "python",
   "name": "python3"
  },
  "language_info": {
   "codemirror_mode": {
    "name": "ipython",
    "version": 3
   },
   "file_extension": ".py",
   "mimetype": "text/x-python",
   "name": "python",
   "nbconvert_exporter": "python",
   "pygments_lexer": "ipython3",
   "version": "3.13.5"
  }
 },
 "nbformat": 4,
 "nbformat_minor": 5
}
